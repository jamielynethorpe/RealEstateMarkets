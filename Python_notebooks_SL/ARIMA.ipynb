{
 "cells": [
  {
   "cell_type": "code",
   "execution_count": 1,
   "metadata": {},
   "outputs": [
    {
     "data": {
      "text/html": [
       "        <script type=\"text/javascript\">\n",
       "        window.PlotlyConfig = {MathJaxConfig: 'local'};\n",
       "        if (window.MathJax) {MathJax.Hub.Config({SVG: {font: \"STIX-Web\"}});}\n",
       "        if (typeof require !== 'undefined') {\n",
       "        require.undef(\"plotly\");\n",
       "        requirejs.config({\n",
       "            paths: {\n",
       "                'plotly': ['https://cdn.plot.ly/plotly-latest.min']\n",
       "            }\n",
       "        });\n",
       "        require(['plotly'], function(Plotly) {\n",
       "            window._Plotly = Plotly;\n",
       "        });\n",
       "        }\n",
       "        </script>\n",
       "        "
      ]
     },
     "metadata": {},
     "output_type": "display_data"
    }
   ],
   "source": [
    "import numpy as np\n",
    "import pandas as pd\n",
    "import matplotlib.pyplot as plt\n",
    "import seaborn as sns\n",
    "import missingno as msno\n",
    "import squarify\n",
    "\n",
    "import plotly.offline as py\n",
    "py.init_notebook_mode(connected=True)\n",
    "import plotly.graph_objs as go\n",
    "from sklearn.metrics import mean_squared_error\n",
    "\n",
    "%matplotlib inline\n",
    "plt.style.use('ggplot')"
   ]
  },
  {
   "cell_type": "code",
   "execution_count": 67,
   "metadata": {},
   "outputs": [
    {
     "name": "stdout",
     "output_type": "stream",
     "text": [
      "Number of rows and columns in state ts: (13212, 82)\n"
     ]
    }
   ],
   "source": [
    "#path ='file/'\n",
    "path = '../input/'\n",
    "state_ts = pd.read_csv('../zecon/State_time_series.csv')#,parse_dates=['Date'])\n",
    "print('Number of rows and columns in state ts:',state_ts.shape)"
   ]
  },
  {
   "cell_type": "code",
   "execution_count": 59,
   "metadata": {},
   "outputs": [
    {
     "data": {
      "text/html": [
       "<div>\n",
       "<style scoped>\n",
       "    .dataframe tbody tr th:only-of-type {\n",
       "        vertical-align: middle;\n",
       "    }\n",
       "\n",
       "    .dataframe tbody tr th {\n",
       "        vertical-align: top;\n",
       "    }\n",
       "\n",
       "    .dataframe thead th {\n",
       "        text-align: right;\n",
       "    }\n",
       "</style>\n",
       "<table border=\"1\" class=\"dataframe\">\n",
       "  <thead>\n",
       "    <tr style=\"text-align: right;\">\n",
       "      <th></th>\n",
       "      <th>Date</th>\n",
       "      <th>RegionName</th>\n",
       "      <th>DaysOnZillow_AllHomes</th>\n",
       "      <th>InventorySeasonallyAdjusted_AllHomes</th>\n",
       "      <th>InventoryRaw_AllHomes</th>\n",
       "      <th>MedianListingPricePerSqft_1Bedroom</th>\n",
       "      <th>MedianListingPricePerSqft_2Bedroom</th>\n",
       "      <th>MedianListingPricePerSqft_3Bedroom</th>\n",
       "      <th>MedianListingPricePerSqft_4Bedroom</th>\n",
       "      <th>MedianListingPricePerSqft_5BedroomOrMore</th>\n",
       "      <th>...</th>\n",
       "      <th>ZHVI_BottomTier</th>\n",
       "      <th>ZHVI_CondoCoop</th>\n",
       "      <th>ZHVI_MiddleTier</th>\n",
       "      <th>ZHVI_SingleFamilyResidence</th>\n",
       "      <th>ZHVI_TopTier</th>\n",
       "      <th>ZRI_AllHomes</th>\n",
       "      <th>ZRI_AllHomesPlusMultifamily</th>\n",
       "      <th>ZriPerSqft_AllHomes</th>\n",
       "      <th>Zri_MultiFamilyResidenceRental</th>\n",
       "      <th>Zri_SingleFamilyResidenceRental</th>\n",
       "    </tr>\n",
       "  </thead>\n",
       "  <tbody>\n",
       "    <tr>\n",
       "      <th>13207</th>\n",
       "      <td>2017-12-31</td>\n",
       "      <td>Virginia</td>\n",
       "      <td>NaN</td>\n",
       "      <td>39599.0</td>\n",
       "      <td>36664.0</td>\n",
       "      <td>242.105263</td>\n",
       "      <td>146.157362</td>\n",
       "      <td>143.816452</td>\n",
       "      <td>147.329650</td>\n",
       "      <td>153.763978</td>\n",
       "      <td>...</td>\n",
       "      <td>133500.0</td>\n",
       "      <td>291300.0</td>\n",
       "      <td>246200.0</td>\n",
       "      <td>237300.0</td>\n",
       "      <td>492700.0</td>\n",
       "      <td>1538.0</td>\n",
       "      <td>1500.0</td>\n",
       "      <td>0.948</td>\n",
       "      <td>1738.0</td>\n",
       "      <td>1441.0</td>\n",
       "    </tr>\n",
       "    <tr>\n",
       "      <th>13208</th>\n",
       "      <td>2017-12-31</td>\n",
       "      <td>Washington</td>\n",
       "      <td>NaN</td>\n",
       "      <td>17918.0</td>\n",
       "      <td>15109.0</td>\n",
       "      <td>304.291151</td>\n",
       "      <td>220.017256</td>\n",
       "      <td>195.881979</td>\n",
       "      <td>188.990826</td>\n",
       "      <td>201.271186</td>\n",
       "      <td>...</td>\n",
       "      <td>208200.0</td>\n",
       "      <td>337600.0</td>\n",
       "      <td>351300.0</td>\n",
       "      <td>352800.0</td>\n",
       "      <td>662700.0</td>\n",
       "      <td>1842.0</td>\n",
       "      <td>1803.0</td>\n",
       "      <td>1.132</td>\n",
       "      <td>1690.0</td>\n",
       "      <td>1828.0</td>\n",
       "    </tr>\n",
       "    <tr>\n",
       "      <th>13209</th>\n",
       "      <td>2017-12-31</td>\n",
       "      <td>WestVirginia</td>\n",
       "      <td>NaN</td>\n",
       "      <td>9800.0</td>\n",
       "      <td>9422.0</td>\n",
       "      <td>119.723429</td>\n",
       "      <td>77.764277</td>\n",
       "      <td>89.272003</td>\n",
       "      <td>93.071172</td>\n",
       "      <td>88.122881</td>\n",
       "      <td>...</td>\n",
       "      <td>63800.0</td>\n",
       "      <td>115100.0</td>\n",
       "      <td>103500.0</td>\n",
       "      <td>103300.0</td>\n",
       "      <td>174300.0</td>\n",
       "      <td>858.0</td>\n",
       "      <td>858.0</td>\n",
       "      <td>0.674</td>\n",
       "      <td>846.0</td>\n",
       "      <td>858.0</td>\n",
       "    </tr>\n",
       "    <tr>\n",
       "      <th>13210</th>\n",
       "      <td>2017-12-31</td>\n",
       "      <td>Wisconsin</td>\n",
       "      <td>NaN</td>\n",
       "      <td>27273.0</td>\n",
       "      <td>23370.0</td>\n",
       "      <td>145.664583</td>\n",
       "      <td>129.727412</td>\n",
       "      <td>127.136334</td>\n",
       "      <td>116.753927</td>\n",
       "      <td>95.573529</td>\n",
       "      <td>...</td>\n",
       "      <td>107200.0</td>\n",
       "      <td>158700.0</td>\n",
       "      <td>169300.0</td>\n",
       "      <td>170200.0</td>\n",
       "      <td>280600.0</td>\n",
       "      <td>1179.0</td>\n",
       "      <td>1153.0</td>\n",
       "      <td>0.920</td>\n",
       "      <td>1068.0</td>\n",
       "      <td>1163.0</td>\n",
       "    </tr>\n",
       "    <tr>\n",
       "      <th>13211</th>\n",
       "      <td>2017-12-31</td>\n",
       "      <td>Wyoming</td>\n",
       "      <td>NaN</td>\n",
       "      <td>4337.0</td>\n",
       "      <td>3992.0</td>\n",
       "      <td>172.943376</td>\n",
       "      <td>148.544590</td>\n",
       "      <td>137.093704</td>\n",
       "      <td>147.855347</td>\n",
       "      <td>153.846154</td>\n",
       "      <td>...</td>\n",
       "      <td>140400.0</td>\n",
       "      <td>195600.0</td>\n",
       "      <td>200200.0</td>\n",
       "      <td>200500.0</td>\n",
       "      <td>315900.0</td>\n",
       "      <td>1144.0</td>\n",
       "      <td>1115.0</td>\n",
       "      <td>0.902</td>\n",
       "      <td>1023.0</td>\n",
       "      <td>1120.0</td>\n",
       "    </tr>\n",
       "  </tbody>\n",
       "</table>\n",
       "<p>5 rows × 82 columns</p>\n",
       "</div>"
      ],
      "text/plain": [
       "             Date    RegionName  DaysOnZillow_AllHomes  \\\n",
       "13207  2017-12-31      Virginia                    NaN   \n",
       "13208  2017-12-31    Washington                    NaN   \n",
       "13209  2017-12-31  WestVirginia                    NaN   \n",
       "13210  2017-12-31     Wisconsin                    NaN   \n",
       "13211  2017-12-31       Wyoming                    NaN   \n",
       "\n",
       "       InventorySeasonallyAdjusted_AllHomes  InventoryRaw_AllHomes  \\\n",
       "13207                               39599.0                36664.0   \n",
       "13208                               17918.0                15109.0   \n",
       "13209                                9800.0                 9422.0   \n",
       "13210                               27273.0                23370.0   \n",
       "13211                                4337.0                 3992.0   \n",
       "\n",
       "       MedianListingPricePerSqft_1Bedroom  MedianListingPricePerSqft_2Bedroom  \\\n",
       "13207                          242.105263                          146.157362   \n",
       "13208                          304.291151                          220.017256   \n",
       "13209                          119.723429                           77.764277   \n",
       "13210                          145.664583                          129.727412   \n",
       "13211                          172.943376                          148.544590   \n",
       "\n",
       "       MedianListingPricePerSqft_3Bedroom  MedianListingPricePerSqft_4Bedroom  \\\n",
       "13207                          143.816452                          147.329650   \n",
       "13208                          195.881979                          188.990826   \n",
       "13209                           89.272003                           93.071172   \n",
       "13210                          127.136334                          116.753927   \n",
       "13211                          137.093704                          147.855347   \n",
       "\n",
       "       MedianListingPricePerSqft_5BedroomOrMore  ...  ZHVI_BottomTier  \\\n",
       "13207                                153.763978  ...         133500.0   \n",
       "13208                                201.271186  ...         208200.0   \n",
       "13209                                 88.122881  ...          63800.0   \n",
       "13210                                 95.573529  ...         107200.0   \n",
       "13211                                153.846154  ...         140400.0   \n",
       "\n",
       "       ZHVI_CondoCoop  ZHVI_MiddleTier  ZHVI_SingleFamilyResidence  \\\n",
       "13207        291300.0         246200.0                    237300.0   \n",
       "13208        337600.0         351300.0                    352800.0   \n",
       "13209        115100.0         103500.0                    103300.0   \n",
       "13210        158700.0         169300.0                    170200.0   \n",
       "13211        195600.0         200200.0                    200500.0   \n",
       "\n",
       "       ZHVI_TopTier  ZRI_AllHomes  ZRI_AllHomesPlusMultifamily  \\\n",
       "13207      492700.0        1538.0                       1500.0   \n",
       "13208      662700.0        1842.0                       1803.0   \n",
       "13209      174300.0         858.0                        858.0   \n",
       "13210      280600.0        1179.0                       1153.0   \n",
       "13211      315900.0        1144.0                       1115.0   \n",
       "\n",
       "       ZriPerSqft_AllHomes  Zri_MultiFamilyResidenceRental  \\\n",
       "13207                0.948                          1738.0   \n",
       "13208                1.132                          1690.0   \n",
       "13209                0.674                           846.0   \n",
       "13210                0.920                          1068.0   \n",
       "13211                0.902                          1023.0   \n",
       "\n",
       "       Zri_SingleFamilyResidenceRental  \n",
       "13207                           1441.0  \n",
       "13208                           1828.0  \n",
       "13209                            858.0  \n",
       "13210                           1163.0  \n",
       "13211                           1120.0  \n",
       "\n",
       "[5 rows x 82 columns]"
      ]
     },
     "execution_count": 59,
     "metadata": {},
     "output_type": "execute_result"
    }
   ],
   "source": [
    "state_ts.tail()"
   ]
  },
  {
   "cell_type": "code",
   "execution_count": 3,
   "metadata": {},
   "outputs": [
    {
     "name": "stdout",
     "output_type": "stream",
     "text": [
      "Date range:1996-04-30 00:00:00 to 2017-12-31 00:00:00\n",
      "Number of States 52\n"
     ]
    }
   ],
   "source": [
    "# Analysis\n",
    "print('Date range:{} to {}'.format(state_ts['Date'].min(),state_ts['Date'].max()))\n",
    "print('Number of States',state_ts['RegionName'].nunique())"
   ]
  },
  {
   "cell_type": "code",
   "execution_count": 4,
   "metadata": {},
   "outputs": [
    {
     "data": {
      "text/plain": [
       "(261, 81)"
      ]
     },
     "execution_count": 4,
     "metadata": {},
     "output_type": "execute_result"
    }
   ],
   "source": [
    "state_month = state_ts.resample('M',on='Date').mean()\n",
    "state_month = state_month.reset_index()\n",
    "state_month.shape"
   ]
  },
  {
   "cell_type": "code",
   "execution_count": 5,
   "metadata": {},
   "outputs": [
    {
     "data": {
      "text/plain": [
       "(52, 80)"
      ]
     },
     "execution_count": 5,
     "metadata": {},
     "output_type": "execute_result"
    }
   ],
   "source": [
    "# Sample data by region name\n",
    "state_vise = state_ts.groupby(['RegionName']).mean()\n",
    "state_vise.shape"
   ]
  },
  {
   "cell_type": "code",
   "execution_count": 6,
   "metadata": {},
   "outputs": [],
   "source": [
    "from statsmodels.tsa.stattools import adfuller,acf,pacf\n",
    "from statsmodels.tsa.arima_model import ARIMA\n",
    "from statsmodels.tsa.seasonal import seasonal_decompose\n",
    "from pandas.plotting import autocorrelation_plot"
   ]
  },
  {
   "cell_type": "code",
   "execution_count": 10,
   "metadata": {},
   "outputs": [
    {
     "data": {
      "text/plain": [
       "Index(['RegionName', 'DaysOnZillow_AllHomes',\n",
       "       'InventorySeasonallyAdjusted_AllHomes', 'InventoryRaw_AllHomes',\n",
       "       'MedianListingPricePerSqft_1Bedroom',\n",
       "       'MedianListingPricePerSqft_2Bedroom',\n",
       "       'MedianListingPricePerSqft_3Bedroom',\n",
       "       'MedianListingPricePerSqft_4Bedroom',\n",
       "       'MedianListingPricePerSqft_5BedroomOrMore',\n",
       "       'MedianListingPricePerSqft_AllHomes',\n",
       "       'MedianListingPricePerSqft_CondoCoop',\n",
       "       'MedianListingPricePerSqft_DuplexTriplex',\n",
       "       'MedianListingPricePerSqft_SingleFamilyResidence',\n",
       "       'MedianListingPrice_1Bedroom', 'MedianListingPrice_2Bedroom',\n",
       "       'MedianListingPrice_3Bedroom', 'MedianListingPrice_4Bedroom',\n",
       "       'MedianListingPrice_5BedroomOrMore', 'MedianListingPrice_AllHomes',\n",
       "       'MedianListingPrice_CondoCoop', 'MedianListingPrice_DuplexTriplex',\n",
       "       'MedianListingPrice_SingleFamilyResidence',\n",
       "       'MedianPctOfPriceReduction_AllHomes',\n",
       "       'MedianPctOfPriceReduction_CondoCoop',\n",
       "       'MedianPctOfPriceReduction_SingleFamilyResidence',\n",
       "       'MedianPriceCutDollar_AllHomes', 'MedianPriceCutDollar_CondoCoop',\n",
       "       'MedianPriceCutDollar_SingleFamilyResidence',\n",
       "       'MedianRentalPricePerSqft_1Bedroom',\n",
       "       'MedianRentalPricePerSqft_2Bedroom',\n",
       "       'MedianRentalPricePerSqft_3Bedroom',\n",
       "       'MedianRentalPricePerSqft_4Bedroom',\n",
       "       'MedianRentalPricePerSqft_5BedroomOrMore',\n",
       "       'MedianRentalPricePerSqft_AllHomes',\n",
       "       'MedianRentalPricePerSqft_CondoCoop',\n",
       "       'MedianRentalPricePerSqft_DuplexTriplex',\n",
       "       'MedianRentalPricePerSqft_MultiFamilyResidence5PlusUnits',\n",
       "       'MedianRentalPricePerSqft_SingleFamilyResidence',\n",
       "       'MedianRentalPricePerSqft_Studio', 'MedianRentalPrice_1Bedroom',\n",
       "       'MedianRentalPrice_2Bedroom', 'MedianRentalPrice_3Bedroom',\n",
       "       'MedianRentalPrice_4Bedroom', 'MedianRentalPrice_5BedroomOrMore',\n",
       "       'MedianRentalPrice_AllHomes', 'MedianRentalPrice_CondoCoop',\n",
       "       'MedianRentalPrice_DuplexTriplex',\n",
       "       'MedianRentalPrice_MultiFamilyResidence5PlusUnits',\n",
       "       'MedianRentalPrice_SingleFamilyResidence', 'MedianRentalPrice_Studio',\n",
       "       'ZHVIPerSqft_AllHomes', 'PctOfHomesDecreasingInValues_AllHomes',\n",
       "       'PctOfHomesIncreasingInValues_AllHomes',\n",
       "       'PctOfHomesSellingForGain_AllHomes',\n",
       "       'PctOfHomesSellingForLoss_AllHomes',\n",
       "       'PctOfListingsWithPriceReductionsSeasAdj_AllHomes',\n",
       "       'PctOfListingsWithPriceReductionsSeasAdj_CondoCoop',\n",
       "       'PctOfListingsWithPriceReductionsSeasAdj_SingleFamilyResidence',\n",
       "       'PctOfListingsWithPriceReductions_AllHomes',\n",
       "       'PctOfListingsWithPriceReductions_CondoCoop',\n",
       "       'PctOfListingsWithPriceReductions_SingleFamilyResidence',\n",
       "       'PriceToRentRatio_AllHomes', 'Sale_Counts', 'Sale_Counts_Seas_Adj',\n",
       "       'Sale_Prices', 'ZHVI_1bedroom', 'ZHVI_2bedroom', 'ZHVI_3bedroom',\n",
       "       'ZHVI_4bedroom', 'ZHVI_5BedroomOrMore', 'ZHVI_AllHomes',\n",
       "       'ZHVI_BottomTier', 'ZHVI_CondoCoop', 'ZHVI_MiddleTier',\n",
       "       'ZHVI_SingleFamilyResidence', 'ZHVI_TopTier', 'ZRI_AllHomes',\n",
       "       'ZRI_AllHomesPlusMultifamily', 'ZriPerSqft_AllHomes',\n",
       "       'Zri_MultiFamilyResidenceRental', 'Zri_SingleFamilyResidenceRental'],\n",
       "      dtype='object')"
      ]
     },
     "execution_count": 10,
     "metadata": {},
     "output_type": "execute_result"
    }
   ],
   "source": [
    "state_ts.columns"
   ]
  },
  {
   "cell_type": "code",
   "execution_count": 62,
   "metadata": {},
   "outputs": [
    {
     "name": "stdout",
     "output_type": "stream",
     "text": [
      "            Date   RegionName  DaysOnZillow_AllHomes  \\\n",
      "2011  1999-10-31     Arkansas                    NaN   \n",
      "2012  1999-10-31   California                    NaN   \n",
      "2013  1999-10-31     Colorado                    NaN   \n",
      "2014  1999-10-31  Connecticut                    NaN   \n",
      "2015  1999-10-31     Delaware                    NaN   \n",
      "\n",
      "      InventorySeasonallyAdjusted_AllHomes  InventoryRaw_AllHomes  \\\n",
      "2011                                   NaN                    NaN   \n",
      "2012                                   NaN                    NaN   \n",
      "2013                                   NaN                    NaN   \n",
      "2014                                   NaN                    NaN   \n",
      "2015                                   NaN                    NaN   \n",
      "\n",
      "      MedianListingPricePerSqft_1Bedroom  MedianListingPricePerSqft_2Bedroom  \\\n",
      "2011                                 NaN                                 NaN   \n",
      "2012                                 NaN                                 NaN   \n",
      "2013                                 NaN                                 NaN   \n",
      "2014                                 NaN                                 NaN   \n",
      "2015                                 NaN                                 NaN   \n",
      "\n",
      "      MedianListingPricePerSqft_3Bedroom  MedianListingPricePerSqft_4Bedroom  \\\n",
      "2011                                 NaN                                 NaN   \n",
      "2012                                 NaN                                 NaN   \n",
      "2013                                 NaN                                 NaN   \n",
      "2014                                 NaN                                 NaN   \n",
      "2015                                 NaN                                 NaN   \n",
      "\n",
      "      MedianListingPricePerSqft_5BedroomOrMore  ...  ZHVI_BottomTier  \\\n",
      "2011                                       NaN  ...          41000.0   \n",
      "2012                                       NaN  ...         110300.0   \n",
      "2013                                       NaN  ...         108000.0   \n",
      "2014                                       NaN  ...          94100.0   \n",
      "2015                                       NaN  ...          78800.0   \n",
      "\n",
      "      ZHVI_CondoCoop  ZHVI_MiddleTier  ZHVI_SingleFamilyResidence  \\\n",
      "2011         82000.0          70500.0                     70500.0   \n",
      "2012        172200.0         194300.0                    198900.0   \n",
      "2013        127200.0         160900.0                    167400.0   \n",
      "2014         94200.0         153500.0                    163400.0   \n",
      "2015             NaN         118700.0                    118900.0   \n",
      "\n",
      "      ZHVI_TopTier  ZRI_AllHomes  ZRI_AllHomesPlusMultifamily  \\\n",
      "2011      126800.0           NaN                          NaN   \n",
      "2012      369600.0           NaN                          NaN   \n",
      "2013      271400.0           NaN                          NaN   \n",
      "2014      286900.0           NaN                          NaN   \n",
      "2015      190100.0           NaN                          NaN   \n",
      "\n",
      "      ZriPerSqft_AllHomes  Zri_MultiFamilyResidenceRental  \\\n",
      "2011                  NaN                             NaN   \n",
      "2012                  NaN                             NaN   \n",
      "2013                  NaN                             NaN   \n",
      "2014                  NaN                             NaN   \n",
      "2015                  NaN                             NaN   \n",
      "\n",
      "      Zri_SingleFamilyResidenceRental  \n",
      "2011                              NaN  \n",
      "2012                              NaN  \n",
      "2013                              NaN  \n",
      "2014                              NaN  \n",
      "2015                              NaN  \n",
      "\n",
      "[5 rows x 82 columns]\n"
     ]
    }
   ],
   "source": [
    "print(state_ts.head())"
   ]
  },
  {
   "cell_type": "code",
   "execution_count": 68,
   "metadata": {},
   "outputs": [],
   "source": [
    "state_ts=state_ts[(state_ts['Date'] > '2010-01-01') & (state_ts['Date'] < '2020-02-01')]\n",
    "#state_ts.loc['2010-01-01':'2020-12-01']"
   ]
  },
  {
   "cell_type": "code",
   "execution_count": 69,
   "metadata": {},
   "outputs": [
    {
     "data": {
      "text/html": [
       "<div>\n",
       "<style scoped>\n",
       "    .dataframe tbody tr th:only-of-type {\n",
       "        vertical-align: middle;\n",
       "    }\n",
       "\n",
       "    .dataframe tbody tr th {\n",
       "        vertical-align: top;\n",
       "    }\n",
       "\n",
       "    .dataframe thead th {\n",
       "        text-align: right;\n",
       "    }\n",
       "</style>\n",
       "<table border=\"1\" class=\"dataframe\">\n",
       "  <thead>\n",
       "    <tr style=\"text-align: right;\">\n",
       "      <th></th>\n",
       "      <th>Date</th>\n",
       "      <th>RegionName</th>\n",
       "      <th>DaysOnZillow_AllHomes</th>\n",
       "      <th>InventorySeasonallyAdjusted_AllHomes</th>\n",
       "      <th>InventoryRaw_AllHomes</th>\n",
       "      <th>MedianListingPricePerSqft_1Bedroom</th>\n",
       "      <th>MedianListingPricePerSqft_2Bedroom</th>\n",
       "      <th>MedianListingPricePerSqft_3Bedroom</th>\n",
       "      <th>MedianListingPricePerSqft_4Bedroom</th>\n",
       "      <th>MedianListingPricePerSqft_5BedroomOrMore</th>\n",
       "      <th>...</th>\n",
       "      <th>ZHVI_BottomTier</th>\n",
       "      <th>ZHVI_CondoCoop</th>\n",
       "      <th>ZHVI_MiddleTier</th>\n",
       "      <th>ZHVI_SingleFamilyResidence</th>\n",
       "      <th>ZHVI_TopTier</th>\n",
       "      <th>ZRI_AllHomes</th>\n",
       "      <th>ZRI_AllHomesPlusMultifamily</th>\n",
       "      <th>ZriPerSqft_AllHomes</th>\n",
       "      <th>Zri_MultiFamilyResidenceRental</th>\n",
       "      <th>Zri_SingleFamilyResidenceRental</th>\n",
       "    </tr>\n",
       "  </thead>\n",
       "  <tbody>\n",
       "    <tr>\n",
       "      <th>8221</th>\n",
       "      <td>2010-01-31</td>\n",
       "      <td>Alabama</td>\n",
       "      <td>169.0</td>\n",
       "      <td>32616.0</td>\n",
       "      <td>29765.0</td>\n",
       "      <td>NaN</td>\n",
       "      <td>98.491968</td>\n",
       "      <td>93.097826</td>\n",
       "      <td>103.935698</td>\n",
       "      <td>110.909091</td>\n",
       "      <td>...</td>\n",
       "      <td>67900.0</td>\n",
       "      <td>137300.0</td>\n",
       "      <td>123800.0</td>\n",
       "      <td>123300.0</td>\n",
       "      <td>232500.0</td>\n",
       "      <td>NaN</td>\n",
       "      <td>NaN</td>\n",
       "      <td>NaN</td>\n",
       "      <td>NaN</td>\n",
       "      <td>NaN</td>\n",
       "    </tr>\n",
       "    <tr>\n",
       "      <th>8222</th>\n",
       "      <td>2010-01-31</td>\n",
       "      <td>Alaska</td>\n",
       "      <td>130.0</td>\n",
       "      <td>3477.0</td>\n",
       "      <td>2748.0</td>\n",
       "      <td>182.03125</td>\n",
       "      <td>163.351878</td>\n",
       "      <td>154.224835</td>\n",
       "      <td>144.439421</td>\n",
       "      <td>125.418060</td>\n",
       "      <td>...</td>\n",
       "      <td>177200.0</td>\n",
       "      <td>176100.0</td>\n",
       "      <td>247200.0</td>\n",
       "      <td>257100.0</td>\n",
       "      <td>356200.0</td>\n",
       "      <td>NaN</td>\n",
       "      <td>NaN</td>\n",
       "      <td>NaN</td>\n",
       "      <td>NaN</td>\n",
       "      <td>NaN</td>\n",
       "    </tr>\n",
       "    <tr>\n",
       "      <th>8223</th>\n",
       "      <td>2010-01-31</td>\n",
       "      <td>Arizona</td>\n",
       "      <td>112.0</td>\n",
       "      <td>50221.0</td>\n",
       "      <td>50480.0</td>\n",
       "      <td>NaN</td>\n",
       "      <td>NaN</td>\n",
       "      <td>NaN</td>\n",
       "      <td>NaN</td>\n",
       "      <td>NaN</td>\n",
       "      <td>...</td>\n",
       "      <td>95700.0</td>\n",
       "      <td>121800.0</td>\n",
       "      <td>161300.0</td>\n",
       "      <td>168600.0</td>\n",
       "      <td>298400.0</td>\n",
       "      <td>NaN</td>\n",
       "      <td>NaN</td>\n",
       "      <td>NaN</td>\n",
       "      <td>NaN</td>\n",
       "      <td>NaN</td>\n",
       "    </tr>\n",
       "    <tr>\n",
       "      <th>8224</th>\n",
       "      <td>2010-01-31</td>\n",
       "      <td>Arkansas</td>\n",
       "      <td>121.0</td>\n",
       "      <td>18475.0</td>\n",
       "      <td>17418.0</td>\n",
       "      <td>NaN</td>\n",
       "      <td>81.407259</td>\n",
       "      <td>86.213992</td>\n",
       "      <td>94.743421</td>\n",
       "      <td>96.915394</td>\n",
       "      <td>...</td>\n",
       "      <td>59200.0</td>\n",
       "      <td>127500.0</td>\n",
       "      <td>105800.0</td>\n",
       "      <td>105800.0</td>\n",
       "      <td>185100.0</td>\n",
       "      <td>NaN</td>\n",
       "      <td>NaN</td>\n",
       "      <td>NaN</td>\n",
       "      <td>NaN</td>\n",
       "      <td>NaN</td>\n",
       "    </tr>\n",
       "    <tr>\n",
       "      <th>8225</th>\n",
       "      <td>2010-01-31</td>\n",
       "      <td>California</td>\n",
       "      <td>108.0</td>\n",
       "      <td>138652.0</td>\n",
       "      <td>132194.0</td>\n",
       "      <td>NaN</td>\n",
       "      <td>NaN</td>\n",
       "      <td>NaN</td>\n",
       "      <td>NaN</td>\n",
       "      <td>NaN</td>\n",
       "      <td>...</td>\n",
       "      <td>163600.0</td>\n",
       "      <td>313600.0</td>\n",
       "      <td>335100.0</td>\n",
       "      <td>340000.0</td>\n",
       "      <td>655700.0</td>\n",
       "      <td>NaN</td>\n",
       "      <td>NaN</td>\n",
       "      <td>NaN</td>\n",
       "      <td>NaN</td>\n",
       "      <td>NaN</td>\n",
       "    </tr>\n",
       "  </tbody>\n",
       "</table>\n",
       "<p>5 rows × 82 columns</p>\n",
       "</div>"
      ],
      "text/plain": [
       "            Date  RegionName  DaysOnZillow_AllHomes  \\\n",
       "8221  2010-01-31     Alabama                  169.0   \n",
       "8222  2010-01-31      Alaska                  130.0   \n",
       "8223  2010-01-31     Arizona                  112.0   \n",
       "8224  2010-01-31    Arkansas                  121.0   \n",
       "8225  2010-01-31  California                  108.0   \n",
       "\n",
       "      InventorySeasonallyAdjusted_AllHomes  InventoryRaw_AllHomes  \\\n",
       "8221                               32616.0                29765.0   \n",
       "8222                                3477.0                 2748.0   \n",
       "8223                               50221.0                50480.0   \n",
       "8224                               18475.0                17418.0   \n",
       "8225                              138652.0               132194.0   \n",
       "\n",
       "      MedianListingPricePerSqft_1Bedroom  MedianListingPricePerSqft_2Bedroom  \\\n",
       "8221                                 NaN                           98.491968   \n",
       "8222                           182.03125                          163.351878   \n",
       "8223                                 NaN                                 NaN   \n",
       "8224                                 NaN                           81.407259   \n",
       "8225                                 NaN                                 NaN   \n",
       "\n",
       "      MedianListingPricePerSqft_3Bedroom  MedianListingPricePerSqft_4Bedroom  \\\n",
       "8221                           93.097826                          103.935698   \n",
       "8222                          154.224835                          144.439421   \n",
       "8223                                 NaN                                 NaN   \n",
       "8224                           86.213992                           94.743421   \n",
       "8225                                 NaN                                 NaN   \n",
       "\n",
       "      MedianListingPricePerSqft_5BedroomOrMore  ...  ZHVI_BottomTier  \\\n",
       "8221                                110.909091  ...          67900.0   \n",
       "8222                                125.418060  ...         177200.0   \n",
       "8223                                       NaN  ...          95700.0   \n",
       "8224                                 96.915394  ...          59200.0   \n",
       "8225                                       NaN  ...         163600.0   \n",
       "\n",
       "      ZHVI_CondoCoop  ZHVI_MiddleTier  ZHVI_SingleFamilyResidence  \\\n",
       "8221        137300.0         123800.0                    123300.0   \n",
       "8222        176100.0         247200.0                    257100.0   \n",
       "8223        121800.0         161300.0                    168600.0   \n",
       "8224        127500.0         105800.0                    105800.0   \n",
       "8225        313600.0         335100.0                    340000.0   \n",
       "\n",
       "      ZHVI_TopTier  ZRI_AllHomes  ZRI_AllHomesPlusMultifamily  \\\n",
       "8221      232500.0           NaN                          NaN   \n",
       "8222      356200.0           NaN                          NaN   \n",
       "8223      298400.0           NaN                          NaN   \n",
       "8224      185100.0           NaN                          NaN   \n",
       "8225      655700.0           NaN                          NaN   \n",
       "\n",
       "      ZriPerSqft_AllHomes  Zri_MultiFamilyResidenceRental  \\\n",
       "8221                  NaN                             NaN   \n",
       "8222                  NaN                             NaN   \n",
       "8223                  NaN                             NaN   \n",
       "8224                  NaN                             NaN   \n",
       "8225                  NaN                             NaN   \n",
       "\n",
       "      Zri_SingleFamilyResidenceRental  \n",
       "8221                              NaN  \n",
       "8222                              NaN  \n",
       "8223                              NaN  \n",
       "8224                              NaN  \n",
       "8225                              NaN  \n",
       "\n",
       "[5 rows x 82 columns]"
      ]
     },
     "execution_count": 69,
     "metadata": {},
     "output_type": "execute_result"
    }
   ],
   "source": [
    "state_ts.head()"
   ]
  },
  {
   "cell_type": "code",
   "execution_count": 51,
   "metadata": {},
   "outputs": [],
   "source": [
    "state_ts=state_ts.reset_index()"
   ]
  },
  {
   "cell_type": "code",
   "execution_count": 70,
   "metadata": {},
   "outputs": [
    {
     "data": {
      "text/html": [
       "<div>\n",
       "<style scoped>\n",
       "    .dataframe tbody tr th:only-of-type {\n",
       "        vertical-align: middle;\n",
       "    }\n",
       "\n",
       "    .dataframe tbody tr th {\n",
       "        vertical-align: top;\n",
       "    }\n",
       "\n",
       "    .dataframe thead th {\n",
       "        text-align: right;\n",
       "    }\n",
       "</style>\n",
       "<table border=\"1\" class=\"dataframe\">\n",
       "  <thead>\n",
       "    <tr style=\"text-align: right;\">\n",
       "      <th></th>\n",
       "      <th>DaysOnZillow_AllHomes</th>\n",
       "      <th>InventorySeasonallyAdjusted_AllHomes</th>\n",
       "      <th>InventoryRaw_AllHomes</th>\n",
       "      <th>MedianListingPricePerSqft_1Bedroom</th>\n",
       "      <th>MedianListingPricePerSqft_2Bedroom</th>\n",
       "      <th>MedianListingPricePerSqft_3Bedroom</th>\n",
       "      <th>MedianListingPricePerSqft_4Bedroom</th>\n",
       "      <th>MedianListingPricePerSqft_5BedroomOrMore</th>\n",
       "      <th>MedianListingPricePerSqft_AllHomes</th>\n",
       "      <th>MedianListingPricePerSqft_CondoCoop</th>\n",
       "      <th>...</th>\n",
       "      <th>ZHVI_BottomTier</th>\n",
       "      <th>ZHVI_CondoCoop</th>\n",
       "      <th>ZHVI_MiddleTier</th>\n",
       "      <th>ZHVI_SingleFamilyResidence</th>\n",
       "      <th>ZHVI_TopTier</th>\n",
       "      <th>ZRI_AllHomes</th>\n",
       "      <th>ZRI_AllHomesPlusMultifamily</th>\n",
       "      <th>ZriPerSqft_AllHomes</th>\n",
       "      <th>Zri_MultiFamilyResidenceRental</th>\n",
       "      <th>Zri_SingleFamilyResidenceRental</th>\n",
       "    </tr>\n",
       "  </thead>\n",
       "  <tbody>\n",
       "    <tr>\n",
       "      <th>count</th>\n",
       "      <td>4845.000000</td>\n",
       "      <td>4896.000000</td>\n",
       "      <td>4896.000000</td>\n",
       "      <td>3586.000000</td>\n",
       "      <td>4534.000000</td>\n",
       "      <td>4607.000000</td>\n",
       "      <td>4677.000000</td>\n",
       "      <td>4569.000000</td>\n",
       "      <td>4674.000000</td>\n",
       "      <td>4149.000000</td>\n",
       "      <td>...</td>\n",
       "      <td>4704.000000</td>\n",
       "      <td>4416.000000</td>\n",
       "      <td>4800.000000</td>\n",
       "      <td>4800.000000</td>\n",
       "      <td>4757.000000</td>\n",
       "      <td>4254.000000</td>\n",
       "      <td>4336.000000</td>\n",
       "      <td>4336.000000</td>\n",
       "      <td>4336.000000</td>\n",
       "      <td>4254.000000</td>\n",
       "    </tr>\n",
       "    <tr>\n",
       "      <th>mean</th>\n",
       "      <td>110.117363</td>\n",
       "      <td>33292.662786</td>\n",
       "      <td>33299.013685</td>\n",
       "      <td>182.470536</td>\n",
       "      <td>135.490657</td>\n",
       "      <td>129.448515</td>\n",
       "      <td>133.458743</td>\n",
       "      <td>135.668871</td>\n",
       "      <td>136.660141</td>\n",
       "      <td>163.547190</td>\n",
       "      <td>...</td>\n",
       "      <td>110375.616497</td>\n",
       "      <td>175222.509058</td>\n",
       "      <td>189077.520833</td>\n",
       "      <td>194192.791667</td>\n",
       "      <td>335566.743746</td>\n",
       "      <td>1321.329807</td>\n",
       "      <td>1318.055581</td>\n",
       "      <td>0.929661</td>\n",
       "      <td>1233.050277</td>\n",
       "      <td>1327.520686</td>\n",
       "    </tr>\n",
       "    <tr>\n",
       "      <th>std</th>\n",
       "      <td>27.474195</td>\n",
       "      <td>34926.704422</td>\n",
       "      <td>35014.163714</td>\n",
       "      <td>99.809488</td>\n",
       "      <td>74.250919</td>\n",
       "      <td>58.837700</td>\n",
       "      <td>58.339837</td>\n",
       "      <td>64.920918</td>\n",
       "      <td>68.762969</td>\n",
       "      <td>99.420552</td>\n",
       "      <td>...</td>\n",
       "      <td>50719.066208</td>\n",
       "      <td>92614.380450</td>\n",
       "      <td>87430.644540</td>\n",
       "      <td>98409.053353</td>\n",
       "      <td>156892.333604</td>\n",
       "      <td>371.006175</td>\n",
       "      <td>368.783157</td>\n",
       "      <td>0.284986</td>\n",
       "      <td>369.426763</td>\n",
       "      <td>383.309444</td>\n",
       "    </tr>\n",
       "    <tr>\n",
       "      <th>min</th>\n",
       "      <td>49.250000</td>\n",
       "      <td>972.000000</td>\n",
       "      <td>911.000000</td>\n",
       "      <td>57.142857</td>\n",
       "      <td>60.000000</td>\n",
       "      <td>56.476684</td>\n",
       "      <td>61.804124</td>\n",
       "      <td>63.775510</td>\n",
       "      <td>62.143473</td>\n",
       "      <td>61.915888</td>\n",
       "      <td>...</td>\n",
       "      <td>44300.000000</td>\n",
       "      <td>64000.000000</td>\n",
       "      <td>87700.000000</td>\n",
       "      <td>86100.000000</td>\n",
       "      <td>150000.000000</td>\n",
       "      <td>799.000000</td>\n",
       "      <td>799.000000</td>\n",
       "      <td>0.560000</td>\n",
       "      <td>713.000000</td>\n",
       "      <td>799.000000</td>\n",
       "    </tr>\n",
       "    <tr>\n",
       "      <th>25%</th>\n",
       "      <td>90.250000</td>\n",
       "      <td>9828.500000</td>\n",
       "      <td>9756.250000</td>\n",
       "      <td>125.688504</td>\n",
       "      <td>92.158518</td>\n",
       "      <td>93.282743</td>\n",
       "      <td>99.601594</td>\n",
       "      <td>99.082187</td>\n",
       "      <td>96.009566</td>\n",
       "      <td>113.083451</td>\n",
       "      <td>...</td>\n",
       "      <td>69500.000000</td>\n",
       "      <td>121375.000000</td>\n",
       "      <td>124400.000000</td>\n",
       "      <td>124675.000000</td>\n",
       "      <td>232100.000000</td>\n",
       "      <td>1047.000000</td>\n",
       "      <td>1036.000000</td>\n",
       "      <td>0.728000</td>\n",
       "      <td>959.750000</td>\n",
       "      <td>1039.250000</td>\n",
       "    </tr>\n",
       "    <tr>\n",
       "      <th>50%</th>\n",
       "      <td>108.500000</td>\n",
       "      <td>21712.500000</td>\n",
       "      <td>21289.000000</td>\n",
       "      <td>162.754210</td>\n",
       "      <td>121.300723</td>\n",
       "      <td>116.626794</td>\n",
       "      <td>119.816221</td>\n",
       "      <td>119.751076</td>\n",
       "      <td>120.581983</td>\n",
       "      <td>140.996376</td>\n",
       "      <td>...</td>\n",
       "      <td>103100.000000</td>\n",
       "      <td>151100.000000</td>\n",
       "      <td>165500.000000</td>\n",
       "      <td>167550.000000</td>\n",
       "      <td>290600.000000</td>\n",
       "      <td>1210.000000</td>\n",
       "      <td>1210.000000</td>\n",
       "      <td>0.862000</td>\n",
       "      <td>1126.000000</td>\n",
       "      <td>1220.000000</td>\n",
       "    </tr>\n",
       "    <tr>\n",
       "      <th>75%</th>\n",
       "      <td>126.750000</td>\n",
       "      <td>47453.000000</td>\n",
       "      <td>46891.000000</td>\n",
       "      <td>202.629803</td>\n",
       "      <td>152.242031</td>\n",
       "      <td>143.188721</td>\n",
       "      <td>144.752714</td>\n",
       "      <td>149.352921</td>\n",
       "      <td>153.443320</td>\n",
       "      <td>177.074899</td>\n",
       "      <td>...</td>\n",
       "      <td>136200.000000</td>\n",
       "      <td>184500.000000</td>\n",
       "      <td>223850.000000</td>\n",
       "      <td>226725.000000</td>\n",
       "      <td>382900.000000</td>\n",
       "      <td>1474.000000</td>\n",
       "      <td>1477.000000</td>\n",
       "      <td>1.074000</td>\n",
       "      <td>1399.500000</td>\n",
       "      <td>1467.750000</td>\n",
       "    </tr>\n",
       "    <tr>\n",
       "      <th>max</th>\n",
       "      <td>251.625000</td>\n",
       "      <td>260687.000000</td>\n",
       "      <td>268055.000000</td>\n",
       "      <td>627.551020</td>\n",
       "      <td>550.639135</td>\n",
       "      <td>460.465116</td>\n",
       "      <td>480.769231</td>\n",
       "      <td>617.955266</td>\n",
       "      <td>520.718864</td>\n",
       "      <td>1000.000000</td>\n",
       "      <td>...</td>\n",
       "      <td>333500.000000</td>\n",
       "      <td>782900.000000</td>\n",
       "      <td>620400.000000</td>\n",
       "      <td>737500.000000</td>\n",
       "      <td>988100.000000</td>\n",
       "      <td>2690.000000</td>\n",
       "      <td>2653.000000</td>\n",
       "      <td>2.294000</td>\n",
       "      <td>2606.000000</td>\n",
       "      <td>2754.000000</td>\n",
       "    </tr>\n",
       "  </tbody>\n",
       "</table>\n",
       "<p>8 rows × 80 columns</p>\n",
       "</div>"
      ],
      "text/plain": [
       "       DaysOnZillow_AllHomes  InventorySeasonallyAdjusted_AllHomes  \\\n",
       "count            4845.000000                           4896.000000   \n",
       "mean              110.117363                          33292.662786   \n",
       "std                27.474195                          34926.704422   \n",
       "min                49.250000                            972.000000   \n",
       "25%                90.250000                           9828.500000   \n",
       "50%               108.500000                          21712.500000   \n",
       "75%               126.750000                          47453.000000   \n",
       "max               251.625000                         260687.000000   \n",
       "\n",
       "       InventoryRaw_AllHomes  MedianListingPricePerSqft_1Bedroom  \\\n",
       "count            4896.000000                         3586.000000   \n",
       "mean            33299.013685                          182.470536   \n",
       "std             35014.163714                           99.809488   \n",
       "min               911.000000                           57.142857   \n",
       "25%              9756.250000                          125.688504   \n",
       "50%             21289.000000                          162.754210   \n",
       "75%             46891.000000                          202.629803   \n",
       "max            268055.000000                          627.551020   \n",
       "\n",
       "       MedianListingPricePerSqft_2Bedroom  MedianListingPricePerSqft_3Bedroom  \\\n",
       "count                         4534.000000                         4607.000000   \n",
       "mean                           135.490657                          129.448515   \n",
       "std                             74.250919                           58.837700   \n",
       "min                             60.000000                           56.476684   \n",
       "25%                             92.158518                           93.282743   \n",
       "50%                            121.300723                          116.626794   \n",
       "75%                            152.242031                          143.188721   \n",
       "max                            550.639135                          460.465116   \n",
       "\n",
       "       MedianListingPricePerSqft_4Bedroom  \\\n",
       "count                         4677.000000   \n",
       "mean                           133.458743   \n",
       "std                             58.339837   \n",
       "min                             61.804124   \n",
       "25%                             99.601594   \n",
       "50%                            119.816221   \n",
       "75%                            144.752714   \n",
       "max                            480.769231   \n",
       "\n",
       "       MedianListingPricePerSqft_5BedroomOrMore  \\\n",
       "count                               4569.000000   \n",
       "mean                                 135.668871   \n",
       "std                                   64.920918   \n",
       "min                                   63.775510   \n",
       "25%                                   99.082187   \n",
       "50%                                  119.751076   \n",
       "75%                                  149.352921   \n",
       "max                                  617.955266   \n",
       "\n",
       "       MedianListingPricePerSqft_AllHomes  \\\n",
       "count                         4674.000000   \n",
       "mean                           136.660141   \n",
       "std                             68.762969   \n",
       "min                             62.143473   \n",
       "25%                             96.009566   \n",
       "50%                            120.581983   \n",
       "75%                            153.443320   \n",
       "max                            520.718864   \n",
       "\n",
       "       MedianListingPricePerSqft_CondoCoop  ...  ZHVI_BottomTier  \\\n",
       "count                          4149.000000  ...      4704.000000   \n",
       "mean                            163.547190  ...    110375.616497   \n",
       "std                              99.420552  ...     50719.066208   \n",
       "min                              61.915888  ...     44300.000000   \n",
       "25%                             113.083451  ...     69500.000000   \n",
       "50%                             140.996376  ...    103100.000000   \n",
       "75%                             177.074899  ...    136200.000000   \n",
       "max                            1000.000000  ...    333500.000000   \n",
       "\n",
       "       ZHVI_CondoCoop  ZHVI_MiddleTier  ZHVI_SingleFamilyResidence  \\\n",
       "count     4416.000000      4800.000000                 4800.000000   \n",
       "mean    175222.509058    189077.520833               194192.791667   \n",
       "std      92614.380450     87430.644540                98409.053353   \n",
       "min      64000.000000     87700.000000                86100.000000   \n",
       "25%     121375.000000    124400.000000               124675.000000   \n",
       "50%     151100.000000    165500.000000               167550.000000   \n",
       "75%     184500.000000    223850.000000               226725.000000   \n",
       "max     782900.000000    620400.000000               737500.000000   \n",
       "\n",
       "        ZHVI_TopTier  ZRI_AllHomes  ZRI_AllHomesPlusMultifamily  \\\n",
       "count    4757.000000   4254.000000                  4336.000000   \n",
       "mean   335566.743746   1321.329807                  1318.055581   \n",
       "std    156892.333604    371.006175                   368.783157   \n",
       "min    150000.000000    799.000000                   799.000000   \n",
       "25%    232100.000000   1047.000000                  1036.000000   \n",
       "50%    290600.000000   1210.000000                  1210.000000   \n",
       "75%    382900.000000   1474.000000                  1477.000000   \n",
       "max    988100.000000   2690.000000                  2653.000000   \n",
       "\n",
       "       ZriPerSqft_AllHomes  Zri_MultiFamilyResidenceRental  \\\n",
       "count          4336.000000                     4336.000000   \n",
       "mean              0.929661                     1233.050277   \n",
       "std               0.284986                      369.426763   \n",
       "min               0.560000                      713.000000   \n",
       "25%               0.728000                      959.750000   \n",
       "50%               0.862000                     1126.000000   \n",
       "75%               1.074000                     1399.500000   \n",
       "max               2.294000                     2606.000000   \n",
       "\n",
       "       Zri_SingleFamilyResidenceRental  \n",
       "count                      4254.000000  \n",
       "mean                       1327.520686  \n",
       "std                         383.309444  \n",
       "min                         799.000000  \n",
       "25%                        1039.250000  \n",
       "50%                        1220.000000  \n",
       "75%                        1467.750000  \n",
       "max                        2754.000000  \n",
       "\n",
       "[8 rows x 80 columns]"
      ]
     },
     "execution_count": 70,
     "metadata": {},
     "output_type": "execute_result"
    }
   ],
   "source": [
    "state_ts.describe()"
   ]
  },
  {
   "cell_type": "code",
   "execution_count": 71,
   "metadata": {},
   "outputs": [
    {
     "data": {
      "text/plain": [
       "Date                                                             4991\n",
       "RegionName                                                       4991\n",
       "DaysOnZillow_AllHomes                                            4845\n",
       "InventorySeasonallyAdjusted_AllHomes                             4896\n",
       "InventoryRaw_AllHomes                                            4896\n",
       "MedianListingPricePerSqft_1Bedroom                               3586\n",
       "MedianListingPricePerSqft_2Bedroom                               4534\n",
       "MedianListingPricePerSqft_3Bedroom                               4607\n",
       "MedianListingPricePerSqft_4Bedroom                               4677\n",
       "MedianListingPricePerSqft_5BedroomOrMore                         4569\n",
       "MedianListingPricePerSqft_AllHomes                               4674\n",
       "MedianListingPricePerSqft_CondoCoop                              4149\n",
       "MedianListingPricePerSqft_DuplexTriplex                          3964\n",
       "MedianListingPricePerSqft_SingleFamilyResidence                  4639\n",
       "MedianListingPrice_1Bedroom                                      3007\n",
       "MedianListingPrice_2Bedroom                                      4373\n",
       "MedianListingPrice_3Bedroom                                      4370\n",
       "MedianListingPrice_4Bedroom                                      4336\n",
       "MedianListingPrice_5BedroomOrMore                                4223\n",
       "MedianListingPrice_AllHomes                                      4246\n",
       "MedianListingPrice_CondoCoop                                     3810\n",
       "MedianListingPrice_DuplexTriplex                                 3889\n",
       "MedianListingPrice_SingleFamilyResidence                         4130\n",
       "MedianPctOfPriceReduction_AllHomes                               4488\n",
       "MedianPctOfPriceReduction_CondoCoop                              3872\n",
       "MedianPctOfPriceReduction_SingleFamilyResidence                  4488\n",
       "MedianPriceCutDollar_AllHomes                                    4488\n",
       "MedianPriceCutDollar_CondoCoop                                   3872\n",
       "MedianPriceCutDollar_SingleFamilyResidence                       4488\n",
       "MedianRentalPricePerSqft_1Bedroom                                3624\n",
       "                                                                 ... \n",
       "PctOfHomesDecreasingInValues_AllHomes                            3454\n",
       "PctOfHomesIncreasingInValues_AllHomes                            3454\n",
       "PctOfHomesSellingForGain_AllHomes                                 279\n",
       "PctOfHomesSellingForLoss_AllHomes                                 279\n",
       "PctOfListingsWithPriceReductionsSeasAdj_AllHomes                 4488\n",
       "PctOfListingsWithPriceReductionsSeasAdj_CondoCoop                4048\n",
       "PctOfListingsWithPriceReductionsSeasAdj_SingleFamilyResidence    4488\n",
       "PctOfListingsWithPriceReductions_AllHomes                        4488\n",
       "PctOfListingsWithPriceReductions_CondoCoop                       4048\n",
       "PctOfListingsWithPriceReductions_SingleFamilyResidence           4488\n",
       "PriceToRentRatio_AllHomes                                        4300\n",
       "Sale_Counts                                                      4385\n",
       "Sale_Counts_Seas_Adj                                             4385\n",
       "Sale_Prices                                                      3378\n",
       "ZHVI_1bedroom                                                    4091\n",
       "ZHVI_2bedroom                                                    4493\n",
       "ZHVI_3bedroom                                                    4870\n",
       "ZHVI_4bedroom                                                    4704\n",
       "ZHVI_5BedroomOrMore                                              4593\n",
       "ZHVI_AllHomes                                                    4800\n",
       "ZHVI_BottomTier                                                  4704\n",
       "ZHVI_CondoCoop                                                   4416\n",
       "ZHVI_MiddleTier                                                  4800\n",
       "ZHVI_SingleFamilyResidence                                       4800\n",
       "ZHVI_TopTier                                                     4757\n",
       "ZRI_AllHomes                                                     4254\n",
       "ZRI_AllHomesPlusMultifamily                                      4336\n",
       "ZriPerSqft_AllHomes                                              4336\n",
       "Zri_MultiFamilyResidenceRental                                   4336\n",
       "Zri_SingleFamilyResidenceRental                                  4254\n",
       "Length: 82, dtype: int64"
      ]
     },
     "execution_count": 71,
     "metadata": {},
     "output_type": "execute_result"
    }
   ],
   "source": [
    "state_ts.count()"
   ]
  },
  {
   "cell_type": "code",
   "execution_count": 14,
   "metadata": {},
   "outputs": [
    {
     "data": {
      "text/plain": [
       "DatetimeIndex(['1996-04-30', '1996-04-30', '1996-04-30', '1996-04-30',\n",
       "               '1996-04-30', '1996-04-30', '1996-04-30', '1996-04-30',\n",
       "               '1996-04-30', '1996-04-30',\n",
       "               ...\n",
       "               '2017-12-31', '2017-12-31', '2017-12-31', '2017-12-31',\n",
       "               '2017-12-31', '2017-12-31', '2017-12-31', '2017-12-31',\n",
       "               '2017-12-31', '2017-12-31'],\n",
       "              dtype='datetime64[ns]', name='Date', length=13212, freq=None)"
      ]
     },
     "execution_count": 14,
     "metadata": {},
     "output_type": "execute_result"
    }
   ],
   "source": [
    "state_ts.index"
   ]
  },
  {
   "cell_type": "code",
   "execution_count": 72,
   "metadata": {},
   "outputs": [],
   "source": [
    "state_ts['Region']='Georgia'"
   ]
  },
  {
   "cell_type": "code",
   "execution_count": 35,
   "metadata": {},
   "outputs": [],
   "source": [
    "state_ts['Sale_Prices']=state_ts['Sale_Prices'].fillna(state_ts['Sale_Prices'].mean())"
   ]
  },
  {
   "cell_type": "code",
   "execution_count": 36,
   "metadata": {},
   "outputs": [
    {
     "data": {
      "text/plain": [
       "Date\n",
       "1996-04-30    194551.777666\n",
       "1996-04-30    194551.777666\n",
       "1996-04-30    194551.777666\n",
       "1996-04-30    194551.777666\n",
       "1996-04-30    194551.777666\n",
       "Name: Sale_Prices, dtype: float64"
      ]
     },
     "execution_count": 36,
     "metadata": {},
     "output_type": "execute_result"
    }
   ],
   "source": [
    "#state_ts['Date'] = pd.datetime(state_ts['Date'])\n",
    "#state_ts = state_ts.set_index('Date')\n",
    "ts = state_ts['Sale_Prices']#'MedianSoldPrice_AllHomes']\n",
    "ts.head()"
   ]
  },
  {
   "cell_type": "code",
   "execution_count": 27,
   "metadata": {},
   "outputs": [
    {
     "data": {
      "text/plain": [
       "<matplotlib.axes._subplots.AxesSubplot at 0x1a200894e0>"
      ]
     },
     "execution_count": 27,
     "metadata": {},
     "output_type": "execute_result"
    },
    {
     "data": {
      "image/png": "[encoded data removed]",
      "text/plain": [
       "<Figure size 1008x288 with 1 Axes>"
      ]
     },
     "metadata": {
      "needs_background": "light"
     },
     "output_type": "display_data"
    }
   ],
   "source": [
    "plt.figure(figsize=(14,4))\n",
    "ts.plot()"
   ]
  },
  {
   "cell_type": "code",
   "execution_count": 28,
   "metadata": {},
   "outputs": [
    {
     "data": {
      "text/plain": [
       "<matplotlib.axes._subplots.AxesSubplot at 0x1a20662f28>"
      ]
     },
     "execution_count": 28,
     "metadata": {},
     "output_type": "execute_result"
    },
    {
     "data": {
      "image/png": "[encoded data removed]",
      "text/plain": [
       "<Figure size 1008x288 with 1 Axes>"
      ]
     },
     "metadata": {
      "needs_background": "light"
     },
     "output_type": "display_data"
    }
   ],
   "source": [
    "# Resample data by monthly\n",
    "plt.figure(figsize=(14,4))\n",
    "ts = ts.resample('M').mean()\n",
    "ts.plot()"
   ]
  },
  {
   "cell_type": "code",
   "execution_count": 30,
   "metadata": {},
   "outputs": [],
   "source": [
    "# forward fill for nan values\n",
    "ts = ts.ffill()"
   ]
  },
  {
   "cell_type": "code",
   "execution_count": 37,
   "metadata": {},
   "outputs": [
    {
     "name": "stdout",
     "output_type": "stream",
     "text": [
      "Perfom Dickey fuller test\n",
      "Test Statistic                -1.486536e+01\n",
      "p-value                        1.694687e-27\n",
      "#Lags Used                     4.100000e+01\n",
      "Number of Observations Used    1.317000e+04\n",
      "Critical Value (1%)           -3.430847e+00\n",
      "Critical Value (5%)           -2.861759e+00\n",
      "Critical Value (10%)          -2.566887e+00\n",
      "dtype: float64\n"
     ]
    },
    {
     "data": {
      "image/png": "[encoded data removed]",
      "text/plain": [
       "<Figure size 1008x288 with 1 Axes>"
      ]
     },
     "metadata": {
      "needs_background": "light"
     },
     "output_type": "display_data"
    }
   ],
   "source": [
    "def test_stationarity(timeseries):\n",
    "    \n",
    "    #rolling statics\n",
    "    rol_mean = timeseries.rolling(window = 12).mean()\n",
    "    rol_std = timeseries.rolling(window = 12).std()\n",
    "    \n",
    "    #plot rolling statistics\n",
    "    plt.figure(figsize=(14,4))\n",
    "    plt.plot(ts, color = 'b', label = 'Original')\n",
    "    plt.plot(rol_mean, color = 'r', label = 'Rolling Mean')\n",
    "    plt.plot(rol_std, color = 'g', label = 'Rolling Std')\n",
    "    plt.legend(loc='best')\n",
    "    \n",
    "    # Dickey fuller test\n",
    "    print('Perfom Dickey fuller test')\n",
    "    dftest = adfuller(timeseries, autolag='AIC')\n",
    "    dfoutput = pd.Series(dftest[0:4], index=['Test Statistic','p-value','#Lags Used','Number of Observations Used'])\n",
    "    for key,value in dftest[4].items():\n",
    "        dfoutput['Critical Value (%s)'%key] = value\n",
    "    print(dfoutput)\n",
    "    \n",
    "test_stationarity(ts)"
   ]
  },
  {
   "cell_type": "code",
   "execution_count": 38,
   "metadata": {},
   "outputs": [
    {
     "data": {
      "text/plain": [
       "<matplotlib.legend.Legend at 0x1c21805320>"
      ]
     },
     "execution_count": 38,
     "metadata": {},
     "output_type": "execute_result"
    },
    {
     "data": {
      "image/png": "[encoded data removed]",
      "text/plain": [
       "<Figure size 1008x360 with 2 Axes>"
      ]
     },
     "metadata": {
      "needs_background": "light"
     },
     "output_type": "display_data"
    }
   ],
   "source": [
    "fig,ax = plt.subplots(1,2,figsize=(14,5))\n",
    "ax1, ax2 = ax.flatten()\n",
    "\n",
    "ts_log = np.log(ts)\n",
    "ts_log.plot(ax=ax1, label = 'Log',color = 'r')\n",
    "ax1.legend(loc = 'best')\n",
    "\n",
    "ts_ma = ts_log.rolling(12).mean()\n",
    "ts_ma.plot(ax = ax2, label = 'mean')\n",
    "ax2.legend(loc = 'best')"
   ]
  },
  {
   "cell_type": "code",
   "execution_count": 39,
   "metadata": {},
   "outputs": [
    {
     "data": {
      "text/plain": [
       "<matplotlib.axes._subplots.AxesSubplot at 0x1c21cea470>"
      ]
     },
     "execution_count": 39,
     "metadata": {},
     "output_type": "execute_result"
    },
    {
     "data": {
      "image/png": "[encoded data removed]",
      "text/plain": [
       "<Figure size 1008x288 with 1 Axes>"
      ]
     },
     "metadata": {
      "needs_background": "light"
     },
     "output_type": "display_data"
    }
   ],
   "source": [
    "plt.figure(figsize=(14,4))\n",
    "ts_dif = ts_ma - ts_log\n",
    "ts_dif = ts_dif.dropna() # fill na\n",
    "ts_dif.plot()"
   ]
  },
  {
   "cell_type": "code",
   "execution_count": 40,
   "metadata": {},
   "outputs": [
    {
     "name": "stdout",
     "output_type": "stream",
     "text": [
      "Perfom Dickey fuller test\n",
      "Test Statistic                   -43.681733\n",
      "p-value                            0.000000\n",
      "#Lags Used                        41.000000\n",
      "Number of Observations Used    13159.000000\n",
      "Critical Value (1%)               -3.430847\n",
      "Critical Value (5%)               -2.861760\n",
      "Critical Value (10%)              -2.566887\n",
      "dtype: float64\n"
     ]
    },
    {
     "data": {
      "image/png": "[encoded data removed]",
      "text/plain": [
       "<Figure size 1008x288 with 1 Axes>"
      ]
     },
     "metadata": {
      "needs_background": "light"
     },
     "output_type": "display_data"
    }
   ],
   "source": [
    "test_stationarity(ts_dif)"
   ]
  },
  {
   "cell_type": "code",
   "execution_count": 41,
   "metadata": {},
   "outputs": [
    {
     "data": {
      "text/plain": [
       "<matplotlib.axes._subplots.AxesSubplot at 0x1c22b0c748>"
      ]
     },
     "execution_count": 41,
     "metadata": {},
     "output_type": "execute_result"
    },
    {
     "data": {
      "image/png": "[encoded data removed]",
      "text/plain": [
       "<Figure size 1008x288 with 1 Axes>"
      ]
     },
     "metadata": {
      "needs_background": "light"
     },
     "output_type": "display_data"
    }
   ],
   "source": [
    "# Differencing\n",
    "ts_log_dif = ts_log - ts_log.shift()\n",
    "plt.figure(figsize=(14,4))\n",
    "ts_log_dif.plot()"
   ]
  },
  {
   "cell_type": "code",
   "execution_count": 42,
   "metadata": {},
   "outputs": [
    {
     "name": "stdout",
     "output_type": "stream",
     "text": [
      "Perfom Dickey fuller test\n",
      "Test Statistic                   -27.408725\n",
      "p-value                            0.000000\n",
      "#Lags Used                        40.000000\n",
      "Number of Observations Used    13170.000000\n",
      "Critical Value (1%)               -3.430847\n",
      "Critical Value (5%)               -2.861759\n",
      "Critical Value (10%)              -2.566887\n",
      "dtype: float64\n"
     ]
    },
    {
     "data": {
      "image/png": "[encoded data removed]",
      "text/plain": [
       "<Figure size 1008x288 with 1 Axes>"
      ]
     },
     "metadata": {
      "needs_background": "light"
     },
     "output_type": "display_data"
    }
   ],
   "source": [
    "ts_log_dif.dropna(inplace = True)\n",
    "test_stationarity(ts_log_dif)"
   ]
  },
  {
   "cell_type": "code",
   "execution_count": 43,
   "metadata": {},
   "outputs": [
    {
     "ename": "ValueError",
     "evalue": "You must specify a freq or x must be a pandas object with a timeseries index with a freq not set to None",
     "output_type": "error",
     "traceback": [
      "\u001b[0;31m---------------------------------------------------------------------------\u001b[0m",
      "\u001b[0;31mValueError\u001b[0m                                Traceback (most recent call last)",
      "\u001b[0;32m<ipython-input-43-4bdb57a7e8f9>\u001b[0m in \u001b[0;36m<module>\u001b[0;34m\u001b[0m\n\u001b[1;32m      1\u001b[0m \u001b[0;31m# Decomposing\u001b[0m\u001b[0;34m\u001b[0m\u001b[0;34m\u001b[0m\u001b[0;34m\u001b[0m\u001b[0m\n\u001b[0;32m----> 2\u001b[0;31m \u001b[0mdocom\u001b[0m \u001b[0;34m=\u001b[0m \u001b[0mseasonal_decompose\u001b[0m\u001b[0;34m(\u001b[0m\u001b[0mts_dif\u001b[0m\u001b[0;34m)\u001b[0m\u001b[0;34m\u001b[0m\u001b[0;34m\u001b[0m\u001b[0m\n\u001b[0m\u001b[1;32m      3\u001b[0m \u001b[0mfig\u001b[0m\u001b[0;34m,\u001b[0m\u001b[0max\u001b[0m \u001b[0;34m=\u001b[0m \u001b[0mplt\u001b[0m\u001b[0;34m.\u001b[0m\u001b[0msubplots\u001b[0m\u001b[0;34m(\u001b[0m\u001b[0;36m3\u001b[0m\u001b[0;34m,\u001b[0m\u001b[0;36m1\u001b[0m\u001b[0;34m,\u001b[0m\u001b[0mfigsize\u001b[0m\u001b[0;34m=\u001b[0m\u001b[0;34m(\u001b[0m\u001b[0;36m14\u001b[0m\u001b[0;34m,\u001b[0m\u001b[0;36m8\u001b[0m\u001b[0;34m)\u001b[0m\u001b[0;34m)\u001b[0m\u001b[0;34m\u001b[0m\u001b[0;34m\u001b[0m\u001b[0m\n\u001b[1;32m      4\u001b[0m \u001b[0max\u001b[0m\u001b[0;34m\u001b[0m\u001b[0;34m\u001b[0m\u001b[0m\n\u001b[1;32m      5\u001b[0m \u001b[0max\u001b[0m\u001b[0;34m[\u001b[0m\u001b[0;36m0\u001b[0m\u001b[0;34m]\u001b[0m\u001b[0;34m.\u001b[0m\u001b[0mplot\u001b[0m\u001b[0;34m(\u001b[0m\u001b[0mdocom\u001b[0m\u001b[0;34m.\u001b[0m\u001b[0mresid\u001b[0m\u001b[0;34m,\u001b[0m\u001b[0mlabel\u001b[0m \u001b[0;34m=\u001b[0m \u001b[0;34m'Residual'\u001b[0m\u001b[0;34m,\u001b[0m \u001b[0mcolor\u001b[0m \u001b[0;34m=\u001b[0m \u001b[0;34m'r'\u001b[0m\u001b[0;34m)\u001b[0m\u001b[0;34m\u001b[0m\u001b[0;34m\u001b[0m\u001b[0m\n",
      "\u001b[0;32m~/anaconda3/envs/PythonData/lib/python3.6/site-packages/statsmodels/tsa/seasonal.py\u001b[0m in \u001b[0;36mseasonal_decompose\u001b[0;34m(x, model, filt, freq, two_sided, extrapolate_trend)\u001b[0m\n\u001b[1;32m    125\u001b[0m             \u001b[0mfreq\u001b[0m \u001b[0;34m=\u001b[0m \u001b[0mpfreq\u001b[0m\u001b[0;34m\u001b[0m\u001b[0;34m\u001b[0m\u001b[0m\n\u001b[1;32m    126\u001b[0m         \u001b[0;32melse\u001b[0m\u001b[0;34m:\u001b[0m\u001b[0;34m\u001b[0m\u001b[0;34m\u001b[0m\u001b[0m\n\u001b[0;32m--> 127\u001b[0;31m             raise ValueError(\"You must specify a freq or x must be a \"\n\u001b[0m\u001b[1;32m    128\u001b[0m                              \u001b[0;34m\"pandas object with a timeseries index with \"\u001b[0m\u001b[0;34m\u001b[0m\u001b[0;34m\u001b[0m\u001b[0m\n\u001b[1;32m    129\u001b[0m                              \"a freq not set to None\")\n",
      "\u001b[0;31mValueError\u001b[0m: You must specify a freq or x must be a pandas object with a timeseries index with a freq not set to None"
     ]
    }
   ],
   "source": [
    "# Decomposing\n",
    "docom = seasonal_decompose(ts_dif)\n",
    "fig,ax = plt.subplots(3,1,figsize=(14,8))\n",
    "ax\n",
    "ax[0].plot(docom.resid,label = 'Residual', color = 'r')\n",
    "ax[0].legend(loc= 'best')\n",
    "ax[1].plot(docom.seasonal, label = 'Seasonal', color = 'b')\n",
    "ax[1].legend(loc = 'best')\n",
    "ax[2].plot(docom.trend,  label = 'Trend', color = 'b')\n",
    "ax[2].legend(loc = 'best')"
   ]
  },
  {
   "cell_type": "code",
   "execution_count": null,
   "metadata": {},
   "outputs": [],
   "source": []
  }
 ],
 "metadata": {
  "kernelspec": {
   "display_name": "Python (PythonData)",
   "language": "python",
   "name": "pythondata"
  },
  "language_info": {
   "codemirror_mode": {
    "name": "ipython",
    "version": 3
   },
   "file_extension": ".py",
   "mimetype": "text/x-python",
   "name": "python",
   "nbconvert_exporter": "python",
   "pygments_lexer": "ipython3",
   "version": "3.6.8"
  }
 },
 "nbformat": 4,
 "nbformat_minor": 2
}
