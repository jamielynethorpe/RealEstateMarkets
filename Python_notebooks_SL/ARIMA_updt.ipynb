{
 "cells": [
  {
   "cell_type": "code",
   "execution_count": 1,
   "metadata": {},
   "outputs": [
    {
     "data": {
      "text/html": [
       "        <script type=\"text/javascript\">\n",
       "        window.PlotlyConfig = {MathJaxConfig: 'local'};\n",
       "        if (window.MathJax) {MathJax.Hub.Config({SVG: {font: \"STIX-Web\"}});}\n",
       "        if (typeof require !== 'undefined') {\n",
       "        require.undef(\"plotly\");\n",
       "        requirejs.config({\n",
       "            paths: {\n",
       "                'plotly': ['https://cdn.plot.ly/plotly-latest.min']\n",
       "            }\n",
       "        });\n",
       "        require(['plotly'], function(Plotly) {\n",
       "            window._Plotly = Plotly;\n",
       "        });\n",
       "        }\n",
       "        </script>\n",
       "        "
      ]
     },
     "metadata": {},
     "output_type": "display_data"
    }
   ],
   "source": [
    "import numpy as np\n",
    "import pandas as pd\n",
    "import matplotlib.pyplot as plt\n",
    "import seaborn as sns\n",
    "import missingno as msno\n",
    "import squarify\n",
    "\n",
    "import plotly.offline as py\n",
    "py.init_notebook_mode(connected=True)\n",
    "import plotly.graph_objs as go\n",
    "from sklearn.metrics import mean_squared_error\n",
    "\n",
    "%matplotlib inline\n",
    "plt.style.use('ggplot')"
   ]
  },
  {
   "cell_type": "code",
   "execution_count": 2,
   "metadata": {},
   "outputs": [
    {
     "name": "stdout",
     "output_type": "stream",
     "text": [
      "Number of rows and columns in state ts: (13212, 82)\n"
     ]
    }
   ],
   "source": [
    "#path ='file/'\n",
    "path = '../input/'\n",
    "state_ts = pd.read_csv('../zecon/State_time_series.csv',parse_dates=['Date'])\n",
    "print('Number of rows and columns in state ts:',state_ts.shape)"
   ]
  },
  {
   "cell_type": "code",
   "execution_count": 3,
   "metadata": {},
   "outputs": [
    {
     "data": {
      "text/html": [
       "<div>\n",
       "<style scoped>\n",
       "    .dataframe tbody tr th:only-of-type {\n",
       "        vertical-align: middle;\n",
       "    }\n",
       "\n",
       "    .dataframe tbody tr th {\n",
       "        vertical-align: top;\n",
       "    }\n",
       "\n",
       "    .dataframe thead th {\n",
       "        text-align: right;\n",
       "    }\n",
       "</style>\n",
       "<table border=\"1\" class=\"dataframe\">\n",
       "  <thead>\n",
       "    <tr style=\"text-align: right;\">\n",
       "      <th></th>\n",
       "      <th>Date</th>\n",
       "      <th>RegionName</th>\n",
       "      <th>DaysOnZillow_AllHomes</th>\n",
       "      <th>InventorySeasonallyAdjusted_AllHomes</th>\n",
       "      <th>InventoryRaw_AllHomes</th>\n",
       "      <th>MedianListingPricePerSqft_1Bedroom</th>\n",
       "      <th>MedianListingPricePerSqft_2Bedroom</th>\n",
       "      <th>MedianListingPricePerSqft_3Bedroom</th>\n",
       "      <th>MedianListingPricePerSqft_4Bedroom</th>\n",
       "      <th>MedianListingPricePerSqft_5BedroomOrMore</th>\n",
       "      <th>...</th>\n",
       "      <th>ZHVI_BottomTier</th>\n",
       "      <th>ZHVI_CondoCoop</th>\n",
       "      <th>ZHVI_MiddleTier</th>\n",
       "      <th>ZHVI_SingleFamilyResidence</th>\n",
       "      <th>ZHVI_TopTier</th>\n",
       "      <th>ZRI_AllHomes</th>\n",
       "      <th>ZRI_AllHomesPlusMultifamily</th>\n",
       "      <th>ZriPerSqft_AllHomes</th>\n",
       "      <th>Zri_MultiFamilyResidenceRental</th>\n",
       "      <th>Zri_SingleFamilyResidenceRental</th>\n",
       "    </tr>\n",
       "  </thead>\n",
       "  <tbody>\n",
       "    <tr>\n",
       "      <th>13207</th>\n",
       "      <td>2017-12-31</td>\n",
       "      <td>Virginia</td>\n",
       "      <td>NaN</td>\n",
       "      <td>39599.0</td>\n",
       "      <td>36664.0</td>\n",
       "      <td>242.105263</td>\n",
       "      <td>146.157362</td>\n",
       "      <td>143.816452</td>\n",
       "      <td>147.329650</td>\n",
       "      <td>153.763978</td>\n",
       "      <td>...</td>\n",
       "      <td>133500.0</td>\n",
       "      <td>291300.0</td>\n",
       "      <td>246200.0</td>\n",
       "      <td>237300.0</td>\n",
       "      <td>492700.0</td>\n",
       "      <td>1538.0</td>\n",
       "      <td>1500.0</td>\n",
       "      <td>0.948</td>\n",
       "      <td>1738.0</td>\n",
       "      <td>1441.0</td>\n",
       "    </tr>\n",
       "    <tr>\n",
       "      <th>13208</th>\n",
       "      <td>2017-12-31</td>\n",
       "      <td>Washington</td>\n",
       "      <td>NaN</td>\n",
       "      <td>17918.0</td>\n",
       "      <td>15109.0</td>\n",
       "      <td>304.291151</td>\n",
       "      <td>220.017256</td>\n",
       "      <td>195.881979</td>\n",
       "      <td>188.990826</td>\n",
       "      <td>201.271186</td>\n",
       "      <td>...</td>\n",
       "      <td>208200.0</td>\n",
       "      <td>337600.0</td>\n",
       "      <td>351300.0</td>\n",
       "      <td>352800.0</td>\n",
       "      <td>662700.0</td>\n",
       "      <td>1842.0</td>\n",
       "      <td>1803.0</td>\n",
       "      <td>1.132</td>\n",
       "      <td>1690.0</td>\n",
       "      <td>1828.0</td>\n",
       "    </tr>\n",
       "    <tr>\n",
       "      <th>13209</th>\n",
       "      <td>2017-12-31</td>\n",
       "      <td>WestVirginia</td>\n",
       "      <td>NaN</td>\n",
       "      <td>9800.0</td>\n",
       "      <td>9422.0</td>\n",
       "      <td>119.723429</td>\n",
       "      <td>77.764277</td>\n",
       "      <td>89.272003</td>\n",
       "      <td>93.071172</td>\n",
       "      <td>88.122881</td>\n",
       "      <td>...</td>\n",
       "      <td>63800.0</td>\n",
       "      <td>115100.0</td>\n",
       "      <td>103500.0</td>\n",
       "      <td>103300.0</td>\n",
       "      <td>174300.0</td>\n",
       "      <td>858.0</td>\n",
       "      <td>858.0</td>\n",
       "      <td>0.674</td>\n",
       "      <td>846.0</td>\n",
       "      <td>858.0</td>\n",
       "    </tr>\n",
       "    <tr>\n",
       "      <th>13210</th>\n",
       "      <td>2017-12-31</td>\n",
       "      <td>Wisconsin</td>\n",
       "      <td>NaN</td>\n",
       "      <td>27273.0</td>\n",
       "      <td>23370.0</td>\n",
       "      <td>145.664583</td>\n",
       "      <td>129.727412</td>\n",
       "      <td>127.136334</td>\n",
       "      <td>116.753927</td>\n",
       "      <td>95.573529</td>\n",
       "      <td>...</td>\n",
       "      <td>107200.0</td>\n",
       "      <td>158700.0</td>\n",
       "      <td>169300.0</td>\n",
       "      <td>170200.0</td>\n",
       "      <td>280600.0</td>\n",
       "      <td>1179.0</td>\n",
       "      <td>1153.0</td>\n",
       "      <td>0.920</td>\n",
       "      <td>1068.0</td>\n",
       "      <td>1163.0</td>\n",
       "    </tr>\n",
       "    <tr>\n",
       "      <th>13211</th>\n",
       "      <td>2017-12-31</td>\n",
       "      <td>Wyoming</td>\n",
       "      <td>NaN</td>\n",
       "      <td>4337.0</td>\n",
       "      <td>3992.0</td>\n",
       "      <td>172.943376</td>\n",
       "      <td>148.544590</td>\n",
       "      <td>137.093704</td>\n",
       "      <td>147.855347</td>\n",
       "      <td>153.846154</td>\n",
       "      <td>...</td>\n",
       "      <td>140400.0</td>\n",
       "      <td>195600.0</td>\n",
       "      <td>200200.0</td>\n",
       "      <td>200500.0</td>\n",
       "      <td>315900.0</td>\n",
       "      <td>1144.0</td>\n",
       "      <td>1115.0</td>\n",
       "      <td>0.902</td>\n",
       "      <td>1023.0</td>\n",
       "      <td>1120.0</td>\n",
       "    </tr>\n",
       "  </tbody>\n",
       "</table>\n",
       "<p>5 rows × 82 columns</p>\n",
       "</div>"
      ],
      "text/plain": [
       "            Date    RegionName  DaysOnZillow_AllHomes  \\\n",
       "13207 2017-12-31      Virginia                    NaN   \n",
       "13208 2017-12-31    Washington                    NaN   \n",
       "13209 2017-12-31  WestVirginia                    NaN   \n",
       "13210 2017-12-31     Wisconsin                    NaN   \n",
       "13211 2017-12-31       Wyoming                    NaN   \n",
       "\n",
       "       InventorySeasonallyAdjusted_AllHomes  InventoryRaw_AllHomes  \\\n",
       "13207                               39599.0                36664.0   \n",
       "13208                               17918.0                15109.0   \n",
       "13209                                9800.0                 9422.0   \n",
       "13210                               27273.0                23370.0   \n",
       "13211                                4337.0                 3992.0   \n",
       "\n",
       "       MedianListingPricePerSqft_1Bedroom  MedianListingPricePerSqft_2Bedroom  \\\n",
       "13207                          242.105263                          146.157362   \n",
       "13208                          304.291151                          220.017256   \n",
       "13209                          119.723429                           77.764277   \n",
       "13210                          145.664583                          129.727412   \n",
       "13211                          172.943376                          148.544590   \n",
       "\n",
       "       MedianListingPricePerSqft_3Bedroom  MedianListingPricePerSqft_4Bedroom  \\\n",
       "13207                          143.816452                          147.329650   \n",
       "13208                          195.881979                          188.990826   \n",
       "13209                           89.272003                           93.071172   \n",
       "13210                          127.136334                          116.753927   \n",
       "13211                          137.093704                          147.855347   \n",
       "\n",
       "       MedianListingPricePerSqft_5BedroomOrMore  ...  ZHVI_BottomTier  \\\n",
       "13207                                153.763978  ...         133500.0   \n",
       "13208                                201.271186  ...         208200.0   \n",
       "13209                                 88.122881  ...          63800.0   \n",
       "13210                                 95.573529  ...         107200.0   \n",
       "13211                                153.846154  ...         140400.0   \n",
       "\n",
       "       ZHVI_CondoCoop  ZHVI_MiddleTier  ZHVI_SingleFamilyResidence  \\\n",
       "13207        291300.0         246200.0                    237300.0   \n",
       "13208        337600.0         351300.0                    352800.0   \n",
       "13209        115100.0         103500.0                    103300.0   \n",
       "13210        158700.0         169300.0                    170200.0   \n",
       "13211        195600.0         200200.0                    200500.0   \n",
       "\n",
       "       ZHVI_TopTier  ZRI_AllHomes  ZRI_AllHomesPlusMultifamily  \\\n",
       "13207      492700.0        1538.0                       1500.0   \n",
       "13208      662700.0        1842.0                       1803.0   \n",
       "13209      174300.0         858.0                        858.0   \n",
       "13210      280600.0        1179.0                       1153.0   \n",
       "13211      315900.0        1144.0                       1115.0   \n",
       "\n",
       "       ZriPerSqft_AllHomes  Zri_MultiFamilyResidenceRental  \\\n",
       "13207                0.948                          1738.0   \n",
       "13208                1.132                          1690.0   \n",
       "13209                0.674                           846.0   \n",
       "13210                0.920                          1068.0   \n",
       "13211                0.902                          1023.0   \n",
       "\n",
       "       Zri_SingleFamilyResidenceRental  \n",
       "13207                           1441.0  \n",
       "13208                           1828.0  \n",
       "13209                            858.0  \n",
       "13210                           1163.0  \n",
       "13211                           1120.0  \n",
       "\n",
       "[5 rows x 82 columns]"
      ]
     },
     "execution_count": 3,
     "metadata": {},
     "output_type": "execute_result"
    }
   ],
   "source": [
    "state_ts.tail()"
   ]
  },
  {
   "cell_type": "code",
   "execution_count": 4,
   "metadata": {},
   "outputs": [
    {
     "name": "stdout",
     "output_type": "stream",
     "text": [
      "Date range:1996-04-30 00:00:00 to 2017-12-31 00:00:00\n",
      "Number of States 52\n"
     ]
    }
   ],
   "source": [
    "# Analysis\n",
    "print('Date range:{} to {}'.format(state_ts['Date'].min(),state_ts['Date'].max()))\n",
    "print('Number of States',state_ts['RegionName'].nunique())"
   ]
  },
  {
   "cell_type": "code",
   "execution_count": 5,
   "metadata": {},
   "outputs": [],
   "source": [
    "state_ts=state_ts[(state_ts['Date'] > '2010-01-01') & (state_ts['Date'] < '2020-02-01')]\n",
    "#state_ts.loc['2010-01-01':'2020-12-01']"
   ]
  },
  {
   "cell_type": "code",
   "execution_count": 6,
   "metadata": {},
   "outputs": [
    {
     "name": "stdout",
     "output_type": "stream",
     "text": [
      "Date range:2010-01-31 00:00:00 to 2017-12-31 00:00:00\n",
      "Number of States 52\n"
     ]
    }
   ],
   "source": [
    "# Analysis\n",
    "print('Date range:{} to {}'.format(state_ts['Date'].min(),state_ts['Date'].max()))\n",
    "print('Number of States',state_ts['RegionName'].nunique())"
   ]
  },
  {
   "cell_type": "code",
   "execution_count": 7,
   "metadata": {},
   "outputs": [],
   "source": [
    "# filter to a particular state\n",
    "state_ts_f=state_ts.loc[state_ts['RegionName']=='Georgia']"
   ]
  },
  {
   "cell_type": "code",
   "execution_count": 8,
   "metadata": {},
   "outputs": [
    {
     "name": "stdout",
     "output_type": "stream",
     "text": [
      "<class 'pandas.core.frame.DataFrame'>\n",
      "Int64Index: 96 entries, 8231 to 13171\n",
      "Data columns (total 82 columns):\n",
      "Date                                                             96 non-null datetime64[ns]\n",
      "RegionName                                                       96 non-null object\n",
      "DaysOnZillow_AllHomes                                            95 non-null float64\n",
      "InventorySeasonallyAdjusted_AllHomes                             96 non-null float64\n",
      "InventoryRaw_AllHomes                                            96 non-null float64\n",
      "MedianListingPricePerSqft_1Bedroom                               96 non-null float64\n",
      "MedianListingPricePerSqft_2Bedroom                               96 non-null float64\n",
      "MedianListingPricePerSqft_3Bedroom                               96 non-null float64\n",
      "MedianListingPricePerSqft_4Bedroom                               96 non-null float64\n",
      "MedianListingPricePerSqft_5BedroomOrMore                         96 non-null float64\n",
      "MedianListingPricePerSqft_AllHomes                               96 non-null float64\n",
      "MedianListingPricePerSqft_CondoCoop                              96 non-null float64\n",
      "MedianListingPricePerSqft_DuplexTriplex                          0 non-null float64\n",
      "MedianListingPricePerSqft_SingleFamilyResidence                  96 non-null float64\n",
      "MedianListingPrice_1Bedroom                                      73 non-null float64\n",
      "MedianListingPrice_2Bedroom                                      61 non-null float64\n",
      "MedianListingPrice_3Bedroom                                      51 non-null float64\n",
      "MedianListingPrice_4Bedroom                                      96 non-null float64\n",
      "MedianListingPrice_5BedroomOrMore                                96 non-null float64\n",
      "MedianListingPrice_AllHomes                                      51 non-null float64\n",
      "MedianListingPrice_CondoCoop                                     96 non-null float64\n",
      "MedianListingPrice_DuplexTriplex                                 0 non-null float64\n",
      "MedianListingPrice_SingleFamilyResidence                         51 non-null float64\n",
      "MedianPctOfPriceReduction_AllHomes                               88 non-null float64\n",
      "MedianPctOfPriceReduction_CondoCoop                              88 non-null float64\n",
      "MedianPctOfPriceReduction_SingleFamilyResidence                  88 non-null float64\n",
      "MedianPriceCutDollar_AllHomes                                    88 non-null float64\n",
      "MedianPriceCutDollar_CondoCoop                                   88 non-null float64\n",
      "MedianPriceCutDollar_SingleFamilyResidence                       88 non-null float64\n",
      "MedianRentalPricePerSqft_1Bedroom                                95 non-null float64\n",
      "MedianRentalPricePerSqft_2Bedroom                                25 non-null float64\n",
      "MedianRentalPricePerSqft_3Bedroom                                95 non-null float64\n",
      "MedianRentalPricePerSqft_4Bedroom                                95 non-null float64\n",
      "MedianRentalPricePerSqft_5BedroomOrMore                          95 non-null float64\n",
      "MedianRentalPricePerSqft_AllHomes                                96 non-null float64\n",
      "MedianRentalPricePerSqft_CondoCoop                               87 non-null float64\n",
      "MedianRentalPricePerSqft_DuplexTriplex                           67 non-null float64\n",
      "MedianRentalPricePerSqft_MultiFamilyResidence5PlusUnits          95 non-null float64\n",
      "MedianRentalPricePerSqft_SingleFamilyResidence                   96 non-null float64\n",
      "MedianRentalPricePerSqft_Studio                                  94 non-null float64\n",
      "MedianRentalPrice_1Bedroom                                       95 non-null float64\n",
      "MedianRentalPrice_2Bedroom                                       25 non-null float64\n",
      "MedianRentalPrice_3Bedroom                                       95 non-null float64\n",
      "MedianRentalPrice_4Bedroom                                       94 non-null float64\n",
      "MedianRentalPrice_5BedroomOrMore                                 83 non-null float64\n",
      "MedianRentalPrice_AllHomes                                       96 non-null float64\n",
      "MedianRentalPrice_CondoCoop                                      95 non-null float64\n",
      "MedianRentalPrice_DuplexTriplex                                  14 non-null float64\n",
      "MedianRentalPrice_MultiFamilyResidence5PlusUnits                 95 non-null float64\n",
      "MedianRentalPrice_SingleFamilyResidence                          96 non-null float64\n",
      "MedianRentalPrice_Studio                                         93 non-null float64\n",
      "ZHVIPerSqft_AllHomes                                             96 non-null float64\n",
      "PctOfHomesDecreasingInValues_AllHomes                            96 non-null float64\n",
      "PctOfHomesIncreasingInValues_AllHomes                            96 non-null float64\n",
      "PctOfHomesSellingForGain_AllHomes                                0 non-null float64\n",
      "PctOfHomesSellingForLoss_AllHomes                                0 non-null float64\n",
      "PctOfListingsWithPriceReductionsSeasAdj_AllHomes                 88 non-null float64\n",
      "PctOfListingsWithPriceReductionsSeasAdj_CondoCoop                88 non-null float64\n",
      "PctOfListingsWithPriceReductionsSeasAdj_SingleFamilyResidence    88 non-null float64\n",
      "PctOfListingsWithPriceReductions_AllHomes                        88 non-null float64\n",
      "PctOfListingsWithPriceReductions_CondoCoop                       88 non-null float64\n",
      "PctOfListingsWithPriceReductions_SingleFamilyResidence           88 non-null float64\n",
      "PriceToRentRatio_AllHomes                                        87 non-null float64\n",
      "Sale_Counts                                                      95 non-null float64\n",
      "Sale_Counts_Seas_Adj                                             95 non-null float64\n",
      "Sale_Prices                                                      78 non-null float64\n",
      "ZHVI_1bedroom                                                    96 non-null float64\n",
      "ZHVI_2bedroom                                                    96 non-null float64\n",
      "ZHVI_3bedroom                                                    96 non-null float64\n",
      "ZHVI_4bedroom                                                    96 non-null float64\n",
      "ZHVI_5BedroomOrMore                                              96 non-null float64\n",
      "ZHVI_AllHomes                                                    96 non-null float64\n",
      "ZHVI_BottomTier                                                  96 non-null float64\n",
      "ZHVI_CondoCoop                                                   96 non-null float64\n",
      "ZHVI_MiddleTier                                                  96 non-null float64\n",
      "ZHVI_SingleFamilyResidence                                       96 non-null float64\n",
      "ZHVI_TopTier                                                     96 non-null float64\n",
      "ZRI_AllHomes                                                     86 non-null float64\n",
      "ZRI_AllHomesPlusMultifamily                                      86 non-null float64\n",
      "ZriPerSqft_AllHomes                                              86 non-null float64\n",
      "Zri_MultiFamilyResidenceRental                                   86 non-null float64\n",
      "Zri_SingleFamilyResidenceRental                                  86 non-null float64\n",
      "dtypes: datetime64[ns](1), float64(80), object(1)\n",
      "memory usage: 62.2+ KB\n"
     ]
    }
   ],
   "source": [
    "state_ts_f.info()"
   ]
  },
  {
   "cell_type": "code",
   "execution_count": 9,
   "metadata": {},
   "outputs": [],
   "source": [
    "#state_ts_f=state_ts_f.set_index('Date')"
   ]
  },
  {
   "cell_type": "code",
   "execution_count": 10,
   "metadata": {},
   "outputs": [
    {
     "data": {
      "text/html": [
       "<div>\n",
       "<style scoped>\n",
       "    .dataframe tbody tr th:only-of-type {\n",
       "        vertical-align: middle;\n",
       "    }\n",
       "\n",
       "    .dataframe tbody tr th {\n",
       "        vertical-align: top;\n",
       "    }\n",
       "\n",
       "    .dataframe thead th {\n",
       "        text-align: right;\n",
       "    }\n",
       "</style>\n",
       "<table border=\"1\" class=\"dataframe\">\n",
       "  <thead>\n",
       "    <tr style=\"text-align: right;\">\n",
       "      <th></th>\n",
       "      <th>Date</th>\n",
       "      <th>RegionName</th>\n",
       "      <th>DaysOnZillow_AllHomes</th>\n",
       "      <th>InventorySeasonallyAdjusted_AllHomes</th>\n",
       "      <th>InventoryRaw_AllHomes</th>\n",
       "      <th>MedianListingPricePerSqft_1Bedroom</th>\n",
       "      <th>MedianListingPricePerSqft_2Bedroom</th>\n",
       "      <th>MedianListingPricePerSqft_3Bedroom</th>\n",
       "      <th>MedianListingPricePerSqft_4Bedroom</th>\n",
       "      <th>MedianListingPricePerSqft_5BedroomOrMore</th>\n",
       "      <th>...</th>\n",
       "      <th>ZHVI_BottomTier</th>\n",
       "      <th>ZHVI_CondoCoop</th>\n",
       "      <th>ZHVI_MiddleTier</th>\n",
       "      <th>ZHVI_SingleFamilyResidence</th>\n",
       "      <th>ZHVI_TopTier</th>\n",
       "      <th>ZRI_AllHomes</th>\n",
       "      <th>ZRI_AllHomesPlusMultifamily</th>\n",
       "      <th>ZriPerSqft_AllHomes</th>\n",
       "      <th>Zri_MultiFamilyResidenceRental</th>\n",
       "      <th>Zri_SingleFamilyResidenceRental</th>\n",
       "    </tr>\n",
       "  </thead>\n",
       "  <tbody>\n",
       "    <tr>\n",
       "      <th>8231</th>\n",
       "      <td>2010-01-31</td>\n",
       "      <td>Georgia</td>\n",
       "      <td>152.00</td>\n",
       "      <td>93675.0</td>\n",
       "      <td>88378.0</td>\n",
       "      <td>157.461868</td>\n",
       "      <td>97.442681</td>\n",
       "      <td>89.135579</td>\n",
       "      <td>96.374815</td>\n",
       "      <td>110.942576</td>\n",
       "      <td>...</td>\n",
       "      <td>78900.0</td>\n",
       "      <td>132900.0</td>\n",
       "      <td>135200.0</td>\n",
       "      <td>135400.0</td>\n",
       "      <td>255100.0</td>\n",
       "      <td>NaN</td>\n",
       "      <td>NaN</td>\n",
       "      <td>NaN</td>\n",
       "      <td>NaN</td>\n",
       "      <td>NaN</td>\n",
       "    </tr>\n",
       "    <tr>\n",
       "      <th>8283</th>\n",
       "      <td>2010-02-28</td>\n",
       "      <td>Georgia</td>\n",
       "      <td>150.25</td>\n",
       "      <td>93849.0</td>\n",
       "      <td>90628.0</td>\n",
       "      <td>157.142857</td>\n",
       "      <td>97.128378</td>\n",
       "      <td>89.285714</td>\n",
       "      <td>96.733871</td>\n",
       "      <td>110.389610</td>\n",
       "      <td>...</td>\n",
       "      <td>78300.0</td>\n",
       "      <td>132300.0</td>\n",
       "      <td>134600.0</td>\n",
       "      <td>134800.0</td>\n",
       "      <td>253000.0</td>\n",
       "      <td>NaN</td>\n",
       "      <td>NaN</td>\n",
       "      <td>NaN</td>\n",
       "      <td>NaN</td>\n",
       "      <td>NaN</td>\n",
       "    </tr>\n",
       "    <tr>\n",
       "      <th>8335</th>\n",
       "      <td>2010-03-31</td>\n",
       "      <td>Georgia</td>\n",
       "      <td>149.00</td>\n",
       "      <td>94591.0</td>\n",
       "      <td>93476.0</td>\n",
       "      <td>156.650246</td>\n",
       "      <td>97.942048</td>\n",
       "      <td>89.154930</td>\n",
       "      <td>96.774194</td>\n",
       "      <td>110.469116</td>\n",
       "      <td>...</td>\n",
       "      <td>77800.0</td>\n",
       "      <td>131600.0</td>\n",
       "      <td>133900.0</td>\n",
       "      <td>133800.0</td>\n",
       "      <td>251500.0</td>\n",
       "      <td>NaN</td>\n",
       "      <td>NaN</td>\n",
       "      <td>NaN</td>\n",
       "      <td>NaN</td>\n",
       "      <td>NaN</td>\n",
       "    </tr>\n",
       "    <tr>\n",
       "      <th>8387</th>\n",
       "      <td>2010-04-30</td>\n",
       "      <td>Georgia</td>\n",
       "      <td>148.75</td>\n",
       "      <td>95102.0</td>\n",
       "      <td>97603.0</td>\n",
       "      <td>159.337534</td>\n",
       "      <td>100.095420</td>\n",
       "      <td>89.225589</td>\n",
       "      <td>96.877341</td>\n",
       "      <td>110.521909</td>\n",
       "      <td>...</td>\n",
       "      <td>77800.0</td>\n",
       "      <td>131200.0</td>\n",
       "      <td>133400.0</td>\n",
       "      <td>133300.0</td>\n",
       "      <td>250400.0</td>\n",
       "      <td>NaN</td>\n",
       "      <td>NaN</td>\n",
       "      <td>NaN</td>\n",
       "      <td>NaN</td>\n",
       "      <td>NaN</td>\n",
       "    </tr>\n",
       "    <tr>\n",
       "      <th>8439</th>\n",
       "      <td>2010-05-31</td>\n",
       "      <td>Georgia</td>\n",
       "      <td>141.25</td>\n",
       "      <td>94498.0</td>\n",
       "      <td>95194.0</td>\n",
       "      <td>156.079665</td>\n",
       "      <td>99.206349</td>\n",
       "      <td>87.939698</td>\n",
       "      <td>95.560596</td>\n",
       "      <td>109.352562</td>\n",
       "      <td>...</td>\n",
       "      <td>77800.0</td>\n",
       "      <td>130800.0</td>\n",
       "      <td>132900.0</td>\n",
       "      <td>132900.0</td>\n",
       "      <td>249900.0</td>\n",
       "      <td>NaN</td>\n",
       "      <td>NaN</td>\n",
       "      <td>NaN</td>\n",
       "      <td>NaN</td>\n",
       "      <td>NaN</td>\n",
       "    </tr>\n",
       "  </tbody>\n",
       "</table>\n",
       "<p>5 rows × 82 columns</p>\n",
       "</div>"
      ],
      "text/plain": [
       "           Date RegionName  DaysOnZillow_AllHomes  \\\n",
       "8231 2010-01-31    Georgia                 152.00   \n",
       "8283 2010-02-28    Georgia                 150.25   \n",
       "8335 2010-03-31    Georgia                 149.00   \n",
       "8387 2010-04-30    Georgia                 148.75   \n",
       "8439 2010-05-31    Georgia                 141.25   \n",
       "\n",
       "      InventorySeasonallyAdjusted_AllHomes  InventoryRaw_AllHomes  \\\n",
       "8231                               93675.0                88378.0   \n",
       "8283                               93849.0                90628.0   \n",
       "8335                               94591.0                93476.0   \n",
       "8387                               95102.0                97603.0   \n",
       "8439                               94498.0                95194.0   \n",
       "\n",
       "      MedianListingPricePerSqft_1Bedroom  MedianListingPricePerSqft_2Bedroom  \\\n",
       "8231                          157.461868                           97.442681   \n",
       "8283                          157.142857                           97.128378   \n",
       "8335                          156.650246                           97.942048   \n",
       "8387                          159.337534                          100.095420   \n",
       "8439                          156.079665                           99.206349   \n",
       "\n",
       "      MedianListingPricePerSqft_3Bedroom  MedianListingPricePerSqft_4Bedroom  \\\n",
       "8231                           89.135579                           96.374815   \n",
       "8283                           89.285714                           96.733871   \n",
       "8335                           89.154930                           96.774194   \n",
       "8387                           89.225589                           96.877341   \n",
       "8439                           87.939698                           95.560596   \n",
       "\n",
       "      MedianListingPricePerSqft_5BedroomOrMore  ...  ZHVI_BottomTier  \\\n",
       "8231                                110.942576  ...          78900.0   \n",
       "8283                                110.389610  ...          78300.0   \n",
       "8335                                110.469116  ...          77800.0   \n",
       "8387                                110.521909  ...          77800.0   \n",
       "8439                                109.352562  ...          77800.0   \n",
       "\n",
       "      ZHVI_CondoCoop  ZHVI_MiddleTier  ZHVI_SingleFamilyResidence  \\\n",
       "8231        132900.0         135200.0                    135400.0   \n",
       "8283        132300.0         134600.0                    134800.0   \n",
       "8335        131600.0         133900.0                    133800.0   \n",
       "8387        131200.0         133400.0                    133300.0   \n",
       "8439        130800.0         132900.0                    132900.0   \n",
       "\n",
       "      ZHVI_TopTier  ZRI_AllHomes  ZRI_AllHomesPlusMultifamily  \\\n",
       "8231      255100.0           NaN                          NaN   \n",
       "8283      253000.0           NaN                          NaN   \n",
       "8335      251500.0           NaN                          NaN   \n",
       "8387      250400.0           NaN                          NaN   \n",
       "8439      249900.0           NaN                          NaN   \n",
       "\n",
       "      ZriPerSqft_AllHomes  Zri_MultiFamilyResidenceRental  \\\n",
       "8231                  NaN                             NaN   \n",
       "8283                  NaN                             NaN   \n",
       "8335                  NaN                             NaN   \n",
       "8387                  NaN                             NaN   \n",
       "8439                  NaN                             NaN   \n",
       "\n",
       "      Zri_SingleFamilyResidenceRental  \n",
       "8231                              NaN  \n",
       "8283                              NaN  \n",
       "8335                              NaN  \n",
       "8387                              NaN  \n",
       "8439                              NaN  \n",
       "\n",
       "[5 rows x 82 columns]"
      ]
     },
     "execution_count": 10,
     "metadata": {},
     "output_type": "execute_result"
    }
   ],
   "source": [
    "state_ts_f.head()"
   ]
  },
  {
   "cell_type": "code",
   "execution_count": 11,
   "metadata": {},
   "outputs": [
    {
     "data": {
      "text/plain": [
       "(96, 81)"
      ]
     },
     "execution_count": 11,
     "metadata": {},
     "output_type": "execute_result"
    }
   ],
   "source": [
    "state_month = state_ts_f.resample('M',on='Date').mean()\n",
    "state_month = state_month.reset_index()\n",
    "state_month.shape"
   ]
  },
  {
   "cell_type": "code",
   "execution_count": 12,
   "metadata": {},
   "outputs": [
    {
     "data": {
      "text/plain": [
       "(1, 80)"
      ]
     },
     "execution_count": 12,
     "metadata": {},
     "output_type": "execute_result"
    }
   ],
   "source": [
    "# Sample data by region name\n",
    "state_vise = state_ts_f.groupby(['RegionName']).mean()\n",
    "state_vise.shape"
   ]
  },
  {
   "cell_type": "code",
   "execution_count": 13,
   "metadata": {},
   "outputs": [],
   "source": [
    "from statsmodels.tsa.stattools import adfuller,acf,pacf\n",
    "from statsmodels.tsa.arima_model import ARIMA\n",
    "from statsmodels.tsa.seasonal import seasonal_decompose\n",
    "from pandas.plotting import autocorrelation_plot"
   ]
  },
  {
   "cell_type": "code",
   "execution_count": 14,
   "metadata": {},
   "outputs": [
    {
     "data": {
      "text/plain": [
       "Index(['Date', 'RegionName', 'DaysOnZillow_AllHomes',\n",
       "       'InventorySeasonallyAdjusted_AllHomes', 'InventoryRaw_AllHomes',\n",
       "       'MedianListingPricePerSqft_1Bedroom',\n",
       "       'MedianListingPricePerSqft_2Bedroom',\n",
       "       'MedianListingPricePerSqft_3Bedroom',\n",
       "       'MedianListingPricePerSqft_4Bedroom',\n",
       "       'MedianListingPricePerSqft_5BedroomOrMore',\n",
       "       'MedianListingPricePerSqft_AllHomes',\n",
       "       'MedianListingPricePerSqft_CondoCoop',\n",
       "       'MedianListingPricePerSqft_DuplexTriplex',\n",
       "       'MedianListingPricePerSqft_SingleFamilyResidence',\n",
       "       'MedianListingPrice_1Bedroom', 'MedianListingPrice_2Bedroom',\n",
       "       'MedianListingPrice_3Bedroom', 'MedianListingPrice_4Bedroom',\n",
       "       'MedianListingPrice_5BedroomOrMore', 'MedianListingPrice_AllHomes',\n",
       "       'MedianListingPrice_CondoCoop', 'MedianListingPrice_DuplexTriplex',\n",
       "       'MedianListingPrice_SingleFamilyResidence',\n",
       "       'MedianPctOfPriceReduction_AllHomes',\n",
       "       'MedianPctOfPriceReduction_CondoCoop',\n",
       "       'MedianPctOfPriceReduction_SingleFamilyResidence',\n",
       "       'MedianPriceCutDollar_AllHomes', 'MedianPriceCutDollar_CondoCoop',\n",
       "       'MedianPriceCutDollar_SingleFamilyResidence',\n",
       "       'MedianRentalPricePerSqft_1Bedroom',\n",
       "       'MedianRentalPricePerSqft_2Bedroom',\n",
       "       'MedianRentalPricePerSqft_3Bedroom',\n",
       "       'MedianRentalPricePerSqft_4Bedroom',\n",
       "       'MedianRentalPricePerSqft_5BedroomOrMore',\n",
       "       'MedianRentalPricePerSqft_AllHomes',\n",
       "       'MedianRentalPricePerSqft_CondoCoop',\n",
       "       'MedianRentalPricePerSqft_DuplexTriplex',\n",
       "       'MedianRentalPricePerSqft_MultiFamilyResidence5PlusUnits',\n",
       "       'MedianRentalPricePerSqft_SingleFamilyResidence',\n",
       "       'MedianRentalPricePerSqft_Studio', 'MedianRentalPrice_1Bedroom',\n",
       "       'MedianRentalPrice_2Bedroom', 'MedianRentalPrice_3Bedroom',\n",
       "       'MedianRentalPrice_4Bedroom', 'MedianRentalPrice_5BedroomOrMore',\n",
       "       'MedianRentalPrice_AllHomes', 'MedianRentalPrice_CondoCoop',\n",
       "       'MedianRentalPrice_DuplexTriplex',\n",
       "       'MedianRentalPrice_MultiFamilyResidence5PlusUnits',\n",
       "       'MedianRentalPrice_SingleFamilyResidence', 'MedianRentalPrice_Studio',\n",
       "       'ZHVIPerSqft_AllHomes', 'PctOfHomesDecreasingInValues_AllHomes',\n",
       "       'PctOfHomesIncreasingInValues_AllHomes',\n",
       "       'PctOfHomesSellingForGain_AllHomes',\n",
       "       'PctOfHomesSellingForLoss_AllHomes',\n",
       "       'PctOfListingsWithPriceReductionsSeasAdj_AllHomes',\n",
       "       'PctOfListingsWithPriceReductionsSeasAdj_CondoCoop',\n",
       "       'PctOfListingsWithPriceReductionsSeasAdj_SingleFamilyResidence',\n",
       "       'PctOfListingsWithPriceReductions_AllHomes',\n",
       "       'PctOfListingsWithPriceReductions_CondoCoop',\n",
       "       'PctOfListingsWithPriceReductions_SingleFamilyResidence',\n",
       "       'PriceToRentRatio_AllHomes', 'Sale_Counts', 'Sale_Counts_Seas_Adj',\n",
       "       'Sale_Prices', 'ZHVI_1bedroom', 'ZHVI_2bedroom', 'ZHVI_3bedroom',\n",
       "       'ZHVI_4bedroom', 'ZHVI_5BedroomOrMore', 'ZHVI_AllHomes',\n",
       "       'ZHVI_BottomTier', 'ZHVI_CondoCoop', 'ZHVI_MiddleTier',\n",
       "       'ZHVI_SingleFamilyResidence', 'ZHVI_TopTier', 'ZRI_AllHomes',\n",
       "       'ZRI_AllHomesPlusMultifamily', 'ZriPerSqft_AllHomes',\n",
       "       'Zri_MultiFamilyResidenceRental', 'Zri_SingleFamilyResidenceRental'],\n",
       "      dtype='object')"
      ]
     },
     "execution_count": 14,
     "metadata": {},
     "output_type": "execute_result"
    }
   ],
   "source": [
    "state_ts_f.columns"
   ]
  },
  {
   "cell_type": "code",
   "execution_count": 15,
   "metadata": {},
   "outputs": [
    {
     "name": "stdout",
     "output_type": "stream",
     "text": [
      "           Date RegionName  DaysOnZillow_AllHomes  \\\n",
      "8231 2010-01-31    Georgia                 152.00   \n",
      "8283 2010-02-28    Georgia                 150.25   \n",
      "8335 2010-03-31    Georgia                 149.00   \n",
      "8387 2010-04-30    Georgia                 148.75   \n",
      "8439 2010-05-31    Georgia                 141.25   \n",
      "\n",
      "      InventorySeasonallyAdjusted_AllHomes  InventoryRaw_AllHomes  \\\n",
      "8231                               93675.0                88378.0   \n",
      "8283                               93849.0                90628.0   \n",
      "8335                               94591.0                93476.0   \n",
      "8387                               95102.0                97603.0   \n",
      "8439                               94498.0                95194.0   \n",
      "\n",
      "      MedianListingPricePerSqft_1Bedroom  MedianListingPricePerSqft_2Bedroom  \\\n",
      "8231                          157.461868                           97.442681   \n",
      "8283                          157.142857                           97.128378   \n",
      "8335                          156.650246                           97.942048   \n",
      "8387                          159.337534                          100.095420   \n",
      "8439                          156.079665                           99.206349   \n",
      "\n",
      "      MedianListingPricePerSqft_3Bedroom  MedianListingPricePerSqft_4Bedroom  \\\n",
      "8231                           89.135579                           96.374815   \n",
      "8283                           89.285714                           96.733871   \n",
      "8335                           89.154930                           96.774194   \n",
      "8387                           89.225589                           96.877341   \n",
      "8439                           87.939698                           95.560596   \n",
      "\n",
      "      MedianListingPricePerSqft_5BedroomOrMore  ...  ZHVI_BottomTier  \\\n",
      "8231                                110.942576  ...          78900.0   \n",
      "8283                                110.389610  ...          78300.0   \n",
      "8335                                110.469116  ...          77800.0   \n",
      "8387                                110.521909  ...          77800.0   \n",
      "8439                                109.352562  ...          77800.0   \n",
      "\n",
      "      ZHVI_CondoCoop  ZHVI_MiddleTier  ZHVI_SingleFamilyResidence  \\\n",
      "8231        132900.0         135200.0                    135400.0   \n",
      "8283        132300.0         134600.0                    134800.0   \n",
      "8335        131600.0         133900.0                    133800.0   \n",
      "8387        131200.0         133400.0                    133300.0   \n",
      "8439        130800.0         132900.0                    132900.0   \n",
      "\n",
      "      ZHVI_TopTier  ZRI_AllHomes  ZRI_AllHomesPlusMultifamily  \\\n",
      "8231      255100.0           NaN                          NaN   \n",
      "8283      253000.0           NaN                          NaN   \n",
      "8335      251500.0           NaN                          NaN   \n",
      "8387      250400.0           NaN                          NaN   \n",
      "8439      249900.0           NaN                          NaN   \n",
      "\n",
      "      ZriPerSqft_AllHomes  Zri_MultiFamilyResidenceRental  \\\n",
      "8231                  NaN                             NaN   \n",
      "8283                  NaN                             NaN   \n",
      "8335                  NaN                             NaN   \n",
      "8387                  NaN                             NaN   \n",
      "8439                  NaN                             NaN   \n",
      "\n",
      "      Zri_SingleFamilyResidenceRental  \n",
      "8231                              NaN  \n",
      "8283                              NaN  \n",
      "8335                              NaN  \n",
      "8387                              NaN  \n",
      "8439                              NaN  \n",
      "\n",
      "[5 rows x 82 columns]\n"
     ]
    }
   ],
   "source": [
    "print(state_ts_f.head())"
   ]
  },
  {
   "cell_type": "code",
   "execution_count": 16,
   "metadata": {},
   "outputs": [
    {
     "data": {
      "text/html": [
       "<div>\n",
       "<style scoped>\n",
       "    .dataframe tbody tr th:only-of-type {\n",
       "        vertical-align: middle;\n",
       "    }\n",
       "\n",
       "    .dataframe tbody tr th {\n",
       "        vertical-align: top;\n",
       "    }\n",
       "\n",
       "    .dataframe thead th {\n",
       "        text-align: right;\n",
       "    }\n",
       "</style>\n",
       "<table border=\"1\" class=\"dataframe\">\n",
       "  <thead>\n",
       "    <tr style=\"text-align: right;\">\n",
       "      <th></th>\n",
       "      <th>Date</th>\n",
       "      <th>RegionName</th>\n",
       "      <th>DaysOnZillow_AllHomes</th>\n",
       "      <th>InventorySeasonallyAdjusted_AllHomes</th>\n",
       "      <th>InventoryRaw_AllHomes</th>\n",
       "      <th>MedianListingPricePerSqft_1Bedroom</th>\n",
       "      <th>MedianListingPricePerSqft_2Bedroom</th>\n",
       "      <th>MedianListingPricePerSqft_3Bedroom</th>\n",
       "      <th>MedianListingPricePerSqft_4Bedroom</th>\n",
       "      <th>MedianListingPricePerSqft_5BedroomOrMore</th>\n",
       "      <th>...</th>\n",
       "      <th>ZHVI_BottomTier</th>\n",
       "      <th>ZHVI_CondoCoop</th>\n",
       "      <th>ZHVI_MiddleTier</th>\n",
       "      <th>ZHVI_SingleFamilyResidence</th>\n",
       "      <th>ZHVI_TopTier</th>\n",
       "      <th>ZRI_AllHomes</th>\n",
       "      <th>ZRI_AllHomesPlusMultifamily</th>\n",
       "      <th>ZriPerSqft_AllHomes</th>\n",
       "      <th>Zri_MultiFamilyResidenceRental</th>\n",
       "      <th>Zri_SingleFamilyResidenceRental</th>\n",
       "    </tr>\n",
       "  </thead>\n",
       "  <tbody>\n",
       "    <tr>\n",
       "      <th>8231</th>\n",
       "      <td>2010-01-31</td>\n",
       "      <td>Georgia</td>\n",
       "      <td>152.00</td>\n",
       "      <td>93675.0</td>\n",
       "      <td>88378.0</td>\n",
       "      <td>157.461868</td>\n",
       "      <td>97.442681</td>\n",
       "      <td>89.135579</td>\n",
       "      <td>96.374815</td>\n",
       "      <td>110.942576</td>\n",
       "      <td>...</td>\n",
       "      <td>78900.0</td>\n",
       "      <td>132900.0</td>\n",
       "      <td>135200.0</td>\n",
       "      <td>135400.0</td>\n",
       "      <td>255100.0</td>\n",
       "      <td>NaN</td>\n",
       "      <td>NaN</td>\n",
       "      <td>NaN</td>\n",
       "      <td>NaN</td>\n",
       "      <td>NaN</td>\n",
       "    </tr>\n",
       "    <tr>\n",
       "      <th>8283</th>\n",
       "      <td>2010-02-28</td>\n",
       "      <td>Georgia</td>\n",
       "      <td>150.25</td>\n",
       "      <td>93849.0</td>\n",
       "      <td>90628.0</td>\n",
       "      <td>157.142857</td>\n",
       "      <td>97.128378</td>\n",
       "      <td>89.285714</td>\n",
       "      <td>96.733871</td>\n",
       "      <td>110.389610</td>\n",
       "      <td>...</td>\n",
       "      <td>78300.0</td>\n",
       "      <td>132300.0</td>\n",
       "      <td>134600.0</td>\n",
       "      <td>134800.0</td>\n",
       "      <td>253000.0</td>\n",
       "      <td>NaN</td>\n",
       "      <td>NaN</td>\n",
       "      <td>NaN</td>\n",
       "      <td>NaN</td>\n",
       "      <td>NaN</td>\n",
       "    </tr>\n",
       "    <tr>\n",
       "      <th>8335</th>\n",
       "      <td>2010-03-31</td>\n",
       "      <td>Georgia</td>\n",
       "      <td>149.00</td>\n",
       "      <td>94591.0</td>\n",
       "      <td>93476.0</td>\n",
       "      <td>156.650246</td>\n",
       "      <td>97.942048</td>\n",
       "      <td>89.154930</td>\n",
       "      <td>96.774194</td>\n",
       "      <td>110.469116</td>\n",
       "      <td>...</td>\n",
       "      <td>77800.0</td>\n",
       "      <td>131600.0</td>\n",
       "      <td>133900.0</td>\n",
       "      <td>133800.0</td>\n",
       "      <td>251500.0</td>\n",
       "      <td>NaN</td>\n",
       "      <td>NaN</td>\n",
       "      <td>NaN</td>\n",
       "      <td>NaN</td>\n",
       "      <td>NaN</td>\n",
       "    </tr>\n",
       "    <tr>\n",
       "      <th>8387</th>\n",
       "      <td>2010-04-30</td>\n",
       "      <td>Georgia</td>\n",
       "      <td>148.75</td>\n",
       "      <td>95102.0</td>\n",
       "      <td>97603.0</td>\n",
       "      <td>159.337534</td>\n",
       "      <td>100.095420</td>\n",
       "      <td>89.225589</td>\n",
       "      <td>96.877341</td>\n",
       "      <td>110.521909</td>\n",
       "      <td>...</td>\n",
       "      <td>77800.0</td>\n",
       "      <td>131200.0</td>\n",
       "      <td>133400.0</td>\n",
       "      <td>133300.0</td>\n",
       "      <td>250400.0</td>\n",
       "      <td>NaN</td>\n",
       "      <td>NaN</td>\n",
       "      <td>NaN</td>\n",
       "      <td>NaN</td>\n",
       "      <td>NaN</td>\n",
       "    </tr>\n",
       "    <tr>\n",
       "      <th>8439</th>\n",
       "      <td>2010-05-31</td>\n",
       "      <td>Georgia</td>\n",
       "      <td>141.25</td>\n",
       "      <td>94498.0</td>\n",
       "      <td>95194.0</td>\n",
       "      <td>156.079665</td>\n",
       "      <td>99.206349</td>\n",
       "      <td>87.939698</td>\n",
       "      <td>95.560596</td>\n",
       "      <td>109.352562</td>\n",
       "      <td>...</td>\n",
       "      <td>77800.0</td>\n",
       "      <td>130800.0</td>\n",
       "      <td>132900.0</td>\n",
       "      <td>132900.0</td>\n",
       "      <td>249900.0</td>\n",
       "      <td>NaN</td>\n",
       "      <td>NaN</td>\n",
       "      <td>NaN</td>\n",
       "      <td>NaN</td>\n",
       "      <td>NaN</td>\n",
       "    </tr>\n",
       "  </tbody>\n",
       "</table>\n",
       "<p>5 rows × 82 columns</p>\n",
       "</div>"
      ],
      "text/plain": [
       "           Date RegionName  DaysOnZillow_AllHomes  \\\n",
       "8231 2010-01-31    Georgia                 152.00   \n",
       "8283 2010-02-28    Georgia                 150.25   \n",
       "8335 2010-03-31    Georgia                 149.00   \n",
       "8387 2010-04-30    Georgia                 148.75   \n",
       "8439 2010-05-31    Georgia                 141.25   \n",
       "\n",
       "      InventorySeasonallyAdjusted_AllHomes  InventoryRaw_AllHomes  \\\n",
       "8231                               93675.0                88378.0   \n",
       "8283                               93849.0                90628.0   \n",
       "8335                               94591.0                93476.0   \n",
       "8387                               95102.0                97603.0   \n",
       "8439                               94498.0                95194.0   \n",
       "\n",
       "      MedianListingPricePerSqft_1Bedroom  MedianListingPricePerSqft_2Bedroom  \\\n",
       "8231                          157.461868                           97.442681   \n",
       "8283                          157.142857                           97.128378   \n",
       "8335                          156.650246                           97.942048   \n",
       "8387                          159.337534                          100.095420   \n",
       "8439                          156.079665                           99.206349   \n",
       "\n",
       "      MedianListingPricePerSqft_3Bedroom  MedianListingPricePerSqft_4Bedroom  \\\n",
       "8231                           89.135579                           96.374815   \n",
       "8283                           89.285714                           96.733871   \n",
       "8335                           89.154930                           96.774194   \n",
       "8387                           89.225589                           96.877341   \n",
       "8439                           87.939698                           95.560596   \n",
       "\n",
       "      MedianListingPricePerSqft_5BedroomOrMore  ...  ZHVI_BottomTier  \\\n",
       "8231                                110.942576  ...          78900.0   \n",
       "8283                                110.389610  ...          78300.0   \n",
       "8335                                110.469116  ...          77800.0   \n",
       "8387                                110.521909  ...          77800.0   \n",
       "8439                                109.352562  ...          77800.0   \n",
       "\n",
       "      ZHVI_CondoCoop  ZHVI_MiddleTier  ZHVI_SingleFamilyResidence  \\\n",
       "8231        132900.0         135200.0                    135400.0   \n",
       "8283        132300.0         134600.0                    134800.0   \n",
       "8335        131600.0         133900.0                    133800.0   \n",
       "8387        131200.0         133400.0                    133300.0   \n",
       "8439        130800.0         132900.0                    132900.0   \n",
       "\n",
       "      ZHVI_TopTier  ZRI_AllHomes  ZRI_AllHomesPlusMultifamily  \\\n",
       "8231      255100.0           NaN                          NaN   \n",
       "8283      253000.0           NaN                          NaN   \n",
       "8335      251500.0           NaN                          NaN   \n",
       "8387      250400.0           NaN                          NaN   \n",
       "8439      249900.0           NaN                          NaN   \n",
       "\n",
       "      ZriPerSqft_AllHomes  Zri_MultiFamilyResidenceRental  \\\n",
       "8231                  NaN                             NaN   \n",
       "8283                  NaN                             NaN   \n",
       "8335                  NaN                             NaN   \n",
       "8387                  NaN                             NaN   \n",
       "8439                  NaN                             NaN   \n",
       "\n",
       "      Zri_SingleFamilyResidenceRental  \n",
       "8231                              NaN  \n",
       "8283                              NaN  \n",
       "8335                              NaN  \n",
       "8387                              NaN  \n",
       "8439                              NaN  \n",
       "\n",
       "[5 rows x 82 columns]"
      ]
     },
     "execution_count": 16,
     "metadata": {},
     "output_type": "execute_result"
    }
   ],
   "source": [
    "state_ts_f.head()"
   ]
  },
  {
   "cell_type": "code",
   "execution_count": 17,
   "metadata": {},
   "outputs": [],
   "source": [
    "state_ts_f=state_ts_f.reset_index()"
   ]
  },
  {
   "cell_type": "code",
   "execution_count": 18,
   "metadata": {},
   "outputs": [
    {
     "data": {
      "text/html": [
       "<div>\n",
       "<style scoped>\n",
       "    .dataframe tbody tr th:only-of-type {\n",
       "        vertical-align: middle;\n",
       "    }\n",
       "\n",
       "    .dataframe tbody tr th {\n",
       "        vertical-align: top;\n",
       "    }\n",
       "\n",
       "    .dataframe thead th {\n",
       "        text-align: right;\n",
       "    }\n",
       "</style>\n",
       "<table border=\"1\" class=\"dataframe\">\n",
       "  <thead>\n",
       "    <tr style=\"text-align: right;\">\n",
       "      <th></th>\n",
       "      <th>index</th>\n",
       "      <th>DaysOnZillow_AllHomes</th>\n",
       "      <th>InventorySeasonallyAdjusted_AllHomes</th>\n",
       "      <th>InventoryRaw_AllHomes</th>\n",
       "      <th>MedianListingPricePerSqft_1Bedroom</th>\n",
       "      <th>MedianListingPricePerSqft_2Bedroom</th>\n",
       "      <th>MedianListingPricePerSqft_3Bedroom</th>\n",
       "      <th>MedianListingPricePerSqft_4Bedroom</th>\n",
       "      <th>MedianListingPricePerSqft_5BedroomOrMore</th>\n",
       "      <th>MedianListingPricePerSqft_AllHomes</th>\n",
       "      <th>...</th>\n",
       "      <th>ZHVI_BottomTier</th>\n",
       "      <th>ZHVI_CondoCoop</th>\n",
       "      <th>ZHVI_MiddleTier</th>\n",
       "      <th>ZHVI_SingleFamilyResidence</th>\n",
       "      <th>ZHVI_TopTier</th>\n",
       "      <th>ZRI_AllHomes</th>\n",
       "      <th>ZRI_AllHomesPlusMultifamily</th>\n",
       "      <th>ZriPerSqft_AllHomes</th>\n",
       "      <th>Zri_MultiFamilyResidenceRental</th>\n",
       "      <th>Zri_SingleFamilyResidenceRental</th>\n",
       "    </tr>\n",
       "  </thead>\n",
       "  <tbody>\n",
       "    <tr>\n",
       "      <th>count</th>\n",
       "      <td>96.000000</td>\n",
       "      <td>95.000000</td>\n",
       "      <td>96.000000</td>\n",
       "      <td>96.000000</td>\n",
       "      <td>96.000000</td>\n",
       "      <td>96.000000</td>\n",
       "      <td>96.000000</td>\n",
       "      <td>96.000000</td>\n",
       "      <td>96.000000</td>\n",
       "      <td>96.000000</td>\n",
       "      <td>...</td>\n",
       "      <td>96.000000</td>\n",
       "      <td>96.000000</td>\n",
       "      <td>96.000000</td>\n",
       "      <td>96.000000</td>\n",
       "      <td>96.000000</td>\n",
       "      <td>86.000000</td>\n",
       "      <td>86.000000</td>\n",
       "      <td>86.000000</td>\n",
       "      <td>86.000000</td>\n",
       "      <td>86.000000</td>\n",
       "    </tr>\n",
       "    <tr>\n",
       "      <th>mean</th>\n",
       "      <td>10701.000000</td>\n",
       "      <td>104.910526</td>\n",
       "      <td>67628.062500</td>\n",
       "      <td>67658.760417</td>\n",
       "      <td>155.594758</td>\n",
       "      <td>92.910298</td>\n",
       "      <td>81.898381</td>\n",
       "      <td>91.762256</td>\n",
       "      <td>103.201654</td>\n",
       "      <td>88.869904</td>\n",
       "      <td>...</td>\n",
       "      <td>70188.541667</td>\n",
       "      <td>129677.083333</td>\n",
       "      <td>131788.541667</td>\n",
       "      <td>131890.625000</td>\n",
       "      <td>261952.083333</td>\n",
       "      <td>1135.174419</td>\n",
       "      <td>1135.523256</td>\n",
       "      <td>0.674163</td>\n",
       "      <td>1153.790698</td>\n",
       "      <td>1134.139535</td>\n",
       "    </tr>\n",
       "    <tr>\n",
       "      <th>std</th>\n",
       "      <td>1448.552381</td>\n",
       "      <td>19.035475</td>\n",
       "      <td>17342.416936</td>\n",
       "      <td>17542.559440</td>\n",
       "      <td>29.950290</td>\n",
       "      <td>15.138052</td>\n",
       "      <td>12.877752</td>\n",
       "      <td>10.625578</td>\n",
       "      <td>9.802859</td>\n",
       "      <td>10.738142</td>\n",
       "      <td>...</td>\n",
       "      <td>7351.388981</td>\n",
       "      <td>19544.014990</td>\n",
       "      <td>14308.767057</td>\n",
       "      <td>13951.095623</td>\n",
       "      <td>28487.574315</td>\n",
       "      <td>59.885222</td>\n",
       "      <td>56.749755</td>\n",
       "      <td>0.027920</td>\n",
       "      <td>86.847956</td>\n",
       "      <td>54.501627</td>\n",
       "    </tr>\n",
       "    <tr>\n",
       "      <th>min</th>\n",
       "      <td>8231.000000</td>\n",
       "      <td>70.500000</td>\n",
       "      <td>47900.000000</td>\n",
       "      <td>46354.000000</td>\n",
       "      <td>103.726740</td>\n",
       "      <td>67.426160</td>\n",
       "      <td>56.476684</td>\n",
       "      <td>71.084864</td>\n",
       "      <td>82.097607</td>\n",
       "      <td>67.059455</td>\n",
       "      <td>...</td>\n",
       "      <td>59200.000000</td>\n",
       "      <td>103200.000000</td>\n",
       "      <td>112600.000000</td>\n",
       "      <td>113300.000000</td>\n",
       "      <td>226900.000000</td>\n",
       "      <td>1060.000000</td>\n",
       "      <td>1061.000000</td>\n",
       "      <td>0.642000</td>\n",
       "      <td>1048.000000</td>\n",
       "      <td>1063.000000</td>\n",
       "    </tr>\n",
       "    <tr>\n",
       "      <th>25%</th>\n",
       "      <td>9466.000000</td>\n",
       "      <td>91.250000</td>\n",
       "      <td>55727.750000</td>\n",
       "      <td>53759.750000</td>\n",
       "      <td>131.450516</td>\n",
       "      <td>83.772508</td>\n",
       "      <td>74.896790</td>\n",
       "      <td>85.142846</td>\n",
       "      <td>96.964481</td>\n",
       "      <td>81.761976</td>\n",
       "      <td>...</td>\n",
       "      <td>63925.000000</td>\n",
       "      <td>113150.000000</td>\n",
       "      <td>119200.000000</td>\n",
       "      <td>119600.000000</td>\n",
       "      <td>236750.000000</td>\n",
       "      <td>1083.250000</td>\n",
       "      <td>1086.500000</td>\n",
       "      <td>0.650000</td>\n",
       "      <td>1073.500000</td>\n",
       "      <td>1087.000000</td>\n",
       "    </tr>\n",
       "    <tr>\n",
       "      <th>50%</th>\n",
       "      <td>10701.000000</td>\n",
       "      <td>103.500000</td>\n",
       "      <td>58682.000000</td>\n",
       "      <td>60454.000000</td>\n",
       "      <td>152.321727</td>\n",
       "      <td>92.614009</td>\n",
       "      <td>84.717388</td>\n",
       "      <td>93.835082</td>\n",
       "      <td>105.595558</td>\n",
       "      <td>90.803764</td>\n",
       "      <td>...</td>\n",
       "      <td>69250.000000</td>\n",
       "      <td>126050.000000</td>\n",
       "      <td>129800.000000</td>\n",
       "      <td>129950.000000</td>\n",
       "      <td>254500.000000</td>\n",
       "      <td>1108.500000</td>\n",
       "      <td>1112.500000</td>\n",
       "      <td>0.664000</td>\n",
       "      <td>1125.000000</td>\n",
       "      <td>1113.000000</td>\n",
       "    </tr>\n",
       "    <tr>\n",
       "      <th>75%</th>\n",
       "      <td>11936.000000</td>\n",
       "      <td>118.375000</td>\n",
       "      <td>87076.500000</td>\n",
       "      <td>81490.250000</td>\n",
       "      <td>181.591718</td>\n",
       "      <td>99.206349</td>\n",
       "      <td>89.172594</td>\n",
       "      <td>96.914151</td>\n",
       "      <td>110.658912</td>\n",
       "      <td>94.252180</td>\n",
       "      <td>...</td>\n",
       "      <td>76600.000000</td>\n",
       "      <td>144625.000000</td>\n",
       "      <td>143275.000000</td>\n",
       "      <td>142700.000000</td>\n",
       "      <td>285725.000000</td>\n",
       "      <td>1191.000000</td>\n",
       "      <td>1191.000000</td>\n",
       "      <td>0.698500</td>\n",
       "      <td>1245.500000</td>\n",
       "      <td>1188.000000</td>\n",
       "    </tr>\n",
       "    <tr>\n",
       "      <th>max</th>\n",
       "      <td>13171.000000</td>\n",
       "      <td>152.000000</td>\n",
       "      <td>101493.000000</td>\n",
       "      <td>102986.000000</td>\n",
       "      <td>215.073949</td>\n",
       "      <td>127.500000</td>\n",
       "      <td>104.545455</td>\n",
       "      <td>109.097303</td>\n",
       "      <td>117.598684</td>\n",
       "      <td>108.126990</td>\n",
       "      <td>...</td>\n",
       "      <td>84600.000000</td>\n",
       "      <td>170600.000000</td>\n",
       "      <td>160800.000000</td>\n",
       "      <td>160400.000000</td>\n",
       "      <td>317700.000000</td>\n",
       "      <td>1265.000000</td>\n",
       "      <td>1256.000000</td>\n",
       "      <td>0.734000</td>\n",
       "      <td>1314.000000</td>\n",
       "      <td>1249.000000</td>\n",
       "    </tr>\n",
       "  </tbody>\n",
       "</table>\n",
       "<p>8 rows × 81 columns</p>\n",
       "</div>"
      ],
      "text/plain": [
       "              index  DaysOnZillow_AllHomes  \\\n",
       "count     96.000000              95.000000   \n",
       "mean   10701.000000             104.910526   \n",
       "std     1448.552381              19.035475   \n",
       "min     8231.000000              70.500000   \n",
       "25%     9466.000000              91.250000   \n",
       "50%    10701.000000             103.500000   \n",
       "75%    11936.000000             118.375000   \n",
       "max    13171.000000             152.000000   \n",
       "\n",
       "       InventorySeasonallyAdjusted_AllHomes  InventoryRaw_AllHomes  \\\n",
       "count                             96.000000              96.000000   \n",
       "mean                           67628.062500           67658.760417   \n",
       "std                            17342.416936           17542.559440   \n",
       "min                            47900.000000           46354.000000   \n",
       "25%                            55727.750000           53759.750000   \n",
       "50%                            58682.000000           60454.000000   \n",
       "75%                            87076.500000           81490.250000   \n",
       "max                           101493.000000          102986.000000   \n",
       "\n",
       "       MedianListingPricePerSqft_1Bedroom  MedianListingPricePerSqft_2Bedroom  \\\n",
       "count                           96.000000                           96.000000   \n",
       "mean                           155.594758                           92.910298   \n",
       "std                             29.950290                           15.138052   \n",
       "min                            103.726740                           67.426160   \n",
       "25%                            131.450516                           83.772508   \n",
       "50%                            152.321727                           92.614009   \n",
       "75%                            181.591718                           99.206349   \n",
       "max                            215.073949                          127.500000   \n",
       "\n",
       "       MedianListingPricePerSqft_3Bedroom  MedianListingPricePerSqft_4Bedroom  \\\n",
       "count                           96.000000                           96.000000   \n",
       "mean                            81.898381                           91.762256   \n",
       "std                             12.877752                           10.625578   \n",
       "min                             56.476684                           71.084864   \n",
       "25%                             74.896790                           85.142846   \n",
       "50%                             84.717388                           93.835082   \n",
       "75%                             89.172594                           96.914151   \n",
       "max                            104.545455                          109.097303   \n",
       "\n",
       "       MedianListingPricePerSqft_5BedroomOrMore  \\\n",
       "count                                 96.000000   \n",
       "mean                                 103.201654   \n",
       "std                                    9.802859   \n",
       "min                                   82.097607   \n",
       "25%                                   96.964481   \n",
       "50%                                  105.595558   \n",
       "75%                                  110.658912   \n",
       "max                                  117.598684   \n",
       "\n",
       "       MedianListingPricePerSqft_AllHomes  ...  ZHVI_BottomTier  \\\n",
       "count                           96.000000  ...        96.000000   \n",
       "mean                            88.869904  ...     70188.541667   \n",
       "std                             10.738142  ...      7351.388981   \n",
       "min                             67.059455  ...     59200.000000   \n",
       "25%                             81.761976  ...     63925.000000   \n",
       "50%                             90.803764  ...     69250.000000   \n",
       "75%                             94.252180  ...     76600.000000   \n",
       "max                            108.126990  ...     84600.000000   \n",
       "\n",
       "       ZHVI_CondoCoop  ZHVI_MiddleTier  ZHVI_SingleFamilyResidence  \\\n",
       "count       96.000000        96.000000                   96.000000   \n",
       "mean    129677.083333    131788.541667               131890.625000   \n",
       "std      19544.014990     14308.767057                13951.095623   \n",
       "min     103200.000000    112600.000000               113300.000000   \n",
       "25%     113150.000000    119200.000000               119600.000000   \n",
       "50%     126050.000000    129800.000000               129950.000000   \n",
       "75%     144625.000000    143275.000000               142700.000000   \n",
       "max     170600.000000    160800.000000               160400.000000   \n",
       "\n",
       "        ZHVI_TopTier  ZRI_AllHomes  ZRI_AllHomesPlusMultifamily  \\\n",
       "count      96.000000     86.000000                    86.000000   \n",
       "mean   261952.083333   1135.174419                  1135.523256   \n",
       "std     28487.574315     59.885222                    56.749755   \n",
       "min    226900.000000   1060.000000                  1061.000000   \n",
       "25%    236750.000000   1083.250000                  1086.500000   \n",
       "50%    254500.000000   1108.500000                  1112.500000   \n",
       "75%    285725.000000   1191.000000                  1191.000000   \n",
       "max    317700.000000   1265.000000                  1256.000000   \n",
       "\n",
       "       ZriPerSqft_AllHomes  Zri_MultiFamilyResidenceRental  \\\n",
       "count            86.000000                       86.000000   \n",
       "mean              0.674163                     1153.790698   \n",
       "std               0.027920                       86.847956   \n",
       "min               0.642000                     1048.000000   \n",
       "25%               0.650000                     1073.500000   \n",
       "50%               0.664000                     1125.000000   \n",
       "75%               0.698500                     1245.500000   \n",
       "max               0.734000                     1314.000000   \n",
       "\n",
       "       Zri_SingleFamilyResidenceRental  \n",
       "count                        86.000000  \n",
       "mean                       1134.139535  \n",
       "std                          54.501627  \n",
       "min                        1063.000000  \n",
       "25%                        1087.000000  \n",
       "50%                        1113.000000  \n",
       "75%                        1188.000000  \n",
       "max                        1249.000000  \n",
       "\n",
       "[8 rows x 81 columns]"
      ]
     },
     "execution_count": 18,
     "metadata": {},
     "output_type": "execute_result"
    }
   ],
   "source": [
    "state_ts_f.describe()"
   ]
  },
  {
   "cell_type": "code",
   "execution_count": 19,
   "metadata": {},
   "outputs": [
    {
     "data": {
      "text/plain": [
       "index                                                            96\n",
       "Date                                                             96\n",
       "RegionName                                                       96\n",
       "DaysOnZillow_AllHomes                                            95\n",
       "InventorySeasonallyAdjusted_AllHomes                             96\n",
       "InventoryRaw_AllHomes                                            96\n",
       "MedianListingPricePerSqft_1Bedroom                               96\n",
       "MedianListingPricePerSqft_2Bedroom                               96\n",
       "MedianListingPricePerSqft_3Bedroom                               96\n",
       "MedianListingPricePerSqft_4Bedroom                               96\n",
       "MedianListingPricePerSqft_5BedroomOrMore                         96\n",
       "MedianListingPricePerSqft_AllHomes                               96\n",
       "MedianListingPricePerSqft_CondoCoop                              96\n",
       "MedianListingPricePerSqft_DuplexTriplex                           0\n",
       "MedianListingPricePerSqft_SingleFamilyResidence                  96\n",
       "MedianListingPrice_1Bedroom                                      73\n",
       "MedianListingPrice_2Bedroom                                      61\n",
       "MedianListingPrice_3Bedroom                                      51\n",
       "MedianListingPrice_4Bedroom                                      96\n",
       "MedianListingPrice_5BedroomOrMore                                96\n",
       "MedianListingPrice_AllHomes                                      51\n",
       "MedianListingPrice_CondoCoop                                     96\n",
       "MedianListingPrice_DuplexTriplex                                  0\n",
       "MedianListingPrice_SingleFamilyResidence                         51\n",
       "MedianPctOfPriceReduction_AllHomes                               88\n",
       "MedianPctOfPriceReduction_CondoCoop                              88\n",
       "MedianPctOfPriceReduction_SingleFamilyResidence                  88\n",
       "MedianPriceCutDollar_AllHomes                                    88\n",
       "MedianPriceCutDollar_CondoCoop                                   88\n",
       "MedianPriceCutDollar_SingleFamilyResidence                       88\n",
       "                                                                 ..\n",
       "PctOfHomesDecreasingInValues_AllHomes                            96\n",
       "PctOfHomesIncreasingInValues_AllHomes                            96\n",
       "PctOfHomesSellingForGain_AllHomes                                 0\n",
       "PctOfHomesSellingForLoss_AllHomes                                 0\n",
       "PctOfListingsWithPriceReductionsSeasAdj_AllHomes                 88\n",
       "PctOfListingsWithPriceReductionsSeasAdj_CondoCoop                88\n",
       "PctOfListingsWithPriceReductionsSeasAdj_SingleFamilyResidence    88\n",
       "PctOfListingsWithPriceReductions_AllHomes                        88\n",
       "PctOfListingsWithPriceReductions_CondoCoop                       88\n",
       "PctOfListingsWithPriceReductions_SingleFamilyResidence           88\n",
       "PriceToRentRatio_AllHomes                                        87\n",
       "Sale_Counts                                                      95\n",
       "Sale_Counts_Seas_Adj                                             95\n",
       "Sale_Prices                                                      78\n",
       "ZHVI_1bedroom                                                    96\n",
       "ZHVI_2bedroom                                                    96\n",
       "ZHVI_3bedroom                                                    96\n",
       "ZHVI_4bedroom                                                    96\n",
       "ZHVI_5BedroomOrMore                                              96\n",
       "ZHVI_AllHomes                                                    96\n",
       "ZHVI_BottomTier                                                  96\n",
       "ZHVI_CondoCoop                                                   96\n",
       "ZHVI_MiddleTier                                                  96\n",
       "ZHVI_SingleFamilyResidence                                       96\n",
       "ZHVI_TopTier                                                     96\n",
       "ZRI_AllHomes                                                     86\n",
       "ZRI_AllHomesPlusMultifamily                                      86\n",
       "ZriPerSqft_AllHomes                                              86\n",
       "Zri_MultiFamilyResidenceRental                                   86\n",
       "Zri_SingleFamilyResidenceRental                                  86\n",
       "Length: 83, dtype: int64"
      ]
     },
     "execution_count": 19,
     "metadata": {},
     "output_type": "execute_result"
    }
   ],
   "source": [
    "state_ts_f.count()"
   ]
  },
  {
   "cell_type": "code",
   "execution_count": 20,
   "metadata": {},
   "outputs": [
    {
     "data": {
      "text/plain": [
       "RangeIndex(start=0, stop=96, step=1)"
      ]
     },
     "execution_count": 20,
     "metadata": {},
     "output_type": "execute_result"
    }
   ],
   "source": [
    "state_ts_f.index"
   ]
  },
  {
   "cell_type": "code",
   "execution_count": 26,
   "metadata": {},
   "outputs": [],
   "source": [
    "state_ts_f=state_ts_f.set_index('Date')"
   ]
  },
  {
   "cell_type": "code",
   "execution_count": 27,
   "metadata": {},
   "outputs": [
    {
     "data": {
      "text/plain": [
       "DatetimeIndex(['2010-01-31', '2010-02-28', '2010-03-31', '2010-04-30',\n",
       "               '2010-05-31', '2010-06-30', '2010-07-31', '2010-08-31',\n",
       "               '2010-09-30', '2010-10-31', '2010-11-30', '2010-12-31',\n",
       "               '2011-01-31', '2011-02-28', '2011-03-31', '2011-04-30',\n",
       "               '2011-05-31', '2011-06-30', '2011-07-31', '2011-08-31',\n",
       "               '2011-09-30', '2011-10-31', '2011-11-30', '2011-12-31',\n",
       "               '2012-01-31', '2012-02-29', '2012-03-31', '2012-04-30',\n",
       "               '2012-05-31', '2012-06-30', '2012-07-31', '2012-08-31',\n",
       "               '2012-09-30', '2012-10-31', '2012-11-30', '2012-12-31',\n",
       "               '2013-01-31', '2013-02-28', '2013-03-31', '2013-04-30',\n",
       "               '2013-05-31', '2013-06-30', '2013-07-31', '2013-08-31',\n",
       "               '2013-09-30', '2013-10-31', '2013-11-30', '2013-12-31',\n",
       "               '2014-01-31', '2014-02-28', '2014-03-31', '2014-04-30',\n",
       "               '2014-05-31', '2014-06-30', '2014-07-31', '2014-08-31',\n",
       "               '2014-09-30', '2014-10-31', '2014-11-30', '2014-12-31',\n",
       "               '2015-01-31', '2015-02-28', '2015-03-31', '2015-04-30',\n",
       "               '2015-05-31', '2015-06-30', '2015-07-31', '2015-08-31',\n",
       "               '2015-09-30', '2015-10-31', '2015-11-30', '2015-12-31',\n",
       "               '2016-01-31', '2016-02-29', '2016-03-31', '2016-04-30',\n",
       "               '2016-05-31', '2016-06-30', '2016-07-31', '2016-08-31',\n",
       "               '2016-09-30', '2016-10-31', '2016-11-30', '2016-12-31',\n",
       "               '2017-01-31', '2017-02-28', '2017-03-31', '2017-04-30',\n",
       "               '2017-05-31', '2017-06-30', '2017-07-31', '2017-08-31',\n",
       "               '2017-09-30', '2017-10-31', '2017-11-30', '2017-12-31'],\n",
       "              dtype='datetime64[ns]', name='Date', freq=None)"
      ]
     },
     "execution_count": 27,
     "metadata": {},
     "output_type": "execute_result"
    }
   ],
   "source": [
    "state_ts_f.index"
   ]
  },
  {
   "cell_type": "code",
   "execution_count": 28,
   "metadata": {},
   "outputs": [],
   "source": [
    "state_ts_f['Sale_Prices']=state_ts_f['Sale_Prices'].fillna(state_ts_f['Sale_Prices'].mean())"
   ]
  },
  {
   "cell_type": "code",
   "execution_count": 30,
   "metadata": {},
   "outputs": [
    {
     "data": {
      "text/plain": [
       "Date\n",
       "2010-01-31    137428.205128\n",
       "2010-02-28    137428.205128\n",
       "2010-03-31    137428.205128\n",
       "2010-04-30    137428.205128\n",
       "2010-05-31    137428.205128\n",
       "Name: Sale_Prices, dtype: float64"
      ]
     },
     "execution_count": 30,
     "metadata": {},
     "output_type": "execute_result"
    }
   ],
   "source": [
    "#state_ts['Date'] = pd.datetime(state_ts['Date'])\n",
    "#already set index to date\n",
    "#state_ts = state_ts_f.set_index('Date')\n",
    "ts = state_ts_f['Sale_Prices']#'MedianSoldPrice_AllHomes']\n",
    "ts.head()"
   ]
  },
  {
   "cell_type": "code",
   "execution_count": 31,
   "metadata": {},
   "outputs": [
    {
     "data": {
      "text/plain": [
       "Date\n",
       "2010-01-31    137428.205128\n",
       "2010-02-28    137428.205128\n",
       "2010-03-31    137428.205128\n",
       "2010-04-30    137428.205128\n",
       "2010-05-31    137428.205128\n",
       "Name: Sale_Prices, dtype: float64"
      ]
     },
     "execution_count": 31,
     "metadata": {},
     "output_type": "execute_result"
    }
   ],
   "source": [
    "ts.head()"
   ]
  },
  {
   "cell_type": "code",
   "execution_count": 32,
   "metadata": {},
   "outputs": [
    {
     "data": {
      "text/plain": [
       "<matplotlib.axes._subplots.AxesSubplot at 0x1a27050748>"
      ]
     },
     "execution_count": 32,
     "metadata": {},
     "output_type": "execute_result"
    },
    {
     "data": {
      "image/png": "[encoded data removed]",
      "text/plain": [
       "<Figure size 1008x288 with 1 Axes>"
      ]
     },
     "metadata": {
      "needs_background": "light"
     },
     "output_type": "display_data"
    }
   ],
   "source": [
    "plt.figure(figsize=(14,4))\n",
    "ts.plot()"
   ]
  },
  {
   "cell_type": "code",
   "execution_count": 33,
   "metadata": {},
   "outputs": [
    {
     "data": {
      "text/plain": [
       "<matplotlib.axes._subplots.AxesSubplot at 0x1a270500b8>"
      ]
     },
     "execution_count": 33,
     "metadata": {},
     "output_type": "execute_result"
    },
    {
     "data": {
      "image/png": "[encoded data removed]",
      "text/plain": [
       "<Figure size 1008x288 with 1 Axes>"
      ]
     },
     "metadata": {
      "needs_background": "light"
     },
     "output_type": "display_data"
    }
   ],
   "source": [
    "# Resample data by monthly\n",
    "plt.figure(figsize=(14,4))\n",
    "ts = ts.resample('M').mean()\n",
    "ts.plot()"
   ]
  },
  {
   "cell_type": "code",
   "execution_count": 35,
   "metadata": {},
   "outputs": [],
   "source": [
    "# forward fill for nan values\n",
    "ts = ts.ffill()"
   ]
  },
  {
   "cell_type": "code",
   "execution_count": 36,
   "metadata": {},
   "outputs": [
    {
     "name": "stdout",
     "output_type": "stream",
     "text": [
      "Perfom Dickey fuller test\n",
      "Test Statistic                 -1.079927\n",
      "p-value                         0.723010\n",
      "#Lags Used                      0.000000\n",
      "Number of Observations Used    95.000000\n",
      "Critical Value (1%)            -3.501137\n",
      "Critical Value (5%)            -2.892480\n",
      "Critical Value (10%)           -2.583275\n",
      "dtype: float64\n"
     ]
    },
    {
     "data": {
      "image/png": "[encoded data removed]",
      "text/plain": [
       "<Figure size 1008x288 with 1 Axes>"
      ]
     },
     "metadata": {
      "needs_background": "light"
     },
     "output_type": "display_data"
    }
   ],
   "source": [
    "def test_stationarity(timeseries):\n",
    "    \n",
    "    #rolling statics\n",
    "    rol_mean = timeseries.rolling(window = 12).mean()\n",
    "    rol_std = timeseries.rolling(window = 12).std()\n",
    "    \n",
    "    #plot rolling statistics\n",
    "    plt.figure(figsize=(14,4))\n",
    "    plt.plot(ts, color = 'b', label = 'Original')\n",
    "    plt.plot(rol_mean, color = 'r', label = 'Rolling Mean')\n",
    "    plt.plot(rol_std, color = 'g', label = 'Rolling Std')\n",
    "    plt.legend(loc='best')\n",
    "    \n",
    "    # Dickey fuller test\n",
    "    print('Perfom Dickey fuller test')\n",
    "    dftest = adfuller(timeseries, autolag='AIC')\n",
    "    dfoutput = pd.Series(dftest[0:4], index=['Test Statistic','p-value','#Lags Used','Number of Observations Used'])\n",
    "    for key,value in dftest[4].items():\n",
    "        dfoutput['Critical Value (%s)'%key] = value\n",
    "    print(dfoutput)\n",
    "    \n",
    "test_stationarity(ts)"
   ]
  },
  {
   "cell_type": "code",
   "execution_count": 37,
   "metadata": {},
   "outputs": [
    {
     "data": {
      "text/plain": [
       "<matplotlib.legend.Legend at 0x1c2881c978>"
      ]
     },
     "execution_count": 37,
     "metadata": {},
     "output_type": "execute_result"
    },
    {
     "data": {
      "image/png": "[encoded data removed]",
      "text/plain": [
       "<Figure size 1008x360 with 2 Axes>"
      ]
     },
     "metadata": {
      "needs_background": "light"
     },
     "output_type": "display_data"
    }
   ],
   "source": [
    "fig,ax = plt.subplots(1,2,figsize=(14,5))\n",
    "ax1, ax2 = ax.flatten()\n",
    "\n",
    "ts_log = np.log(ts)\n",
    "ts_log.plot(ax=ax1, label = 'Log',color = 'r')\n",
    "ax1.legend(loc = 'best')\n",
    "\n",
    "ts_ma = ts_log.rolling(12).mean()\n",
    "ts_ma.plot(ax = ax2, label = 'mean')\n",
    "ax2.legend(loc = 'best')"
   ]
  },
  {
   "cell_type": "code",
   "execution_count": 38,
   "metadata": {},
   "outputs": [
    {
     "data": {
      "text/plain": [
       "<matplotlib.axes._subplots.AxesSubplot at 0x1c28aa8518>"
      ]
     },
     "execution_count": 38,
     "metadata": {},
     "output_type": "execute_result"
    },
    {
     "data": {
      "image/png": "[encoded data removed]",
      "text/plain": [
       "<Figure size 1008x288 with 1 Axes>"
      ]
     },
     "metadata": {
      "needs_background": "light"
     },
     "output_type": "display_data"
    }
   ],
   "source": [
    "plt.figure(figsize=(14,4))\n",
    "ts_dif = ts_ma - ts_log\n",
    "ts_dif = ts_dif.dropna() # fill na\n",
    "ts_dif.plot()"
   ]
  },
  {
   "cell_type": "code",
   "execution_count": 39,
   "metadata": {},
   "outputs": [
    {
     "name": "stdout",
     "output_type": "stream",
     "text": [
      "Perfom Dickey fuller test\n",
      "Test Statistic                 -1.371925\n",
      "p-value                         0.595659\n",
      "#Lags Used                      1.000000\n",
      "Number of Observations Used    83.000000\n",
      "Critical Value (1%)            -3.511712\n",
      "Critical Value (5%)            -2.897048\n",
      "Critical Value (10%)           -2.585713\n",
      "dtype: float64\n"
     ]
    },
    {
     "data": {
      "image/png": "[encoded data removed]",
      "text/plain": [
       "<Figure size 1008x288 with 1 Axes>"
      ]
     },
     "metadata": {
      "needs_background": "light"
     },
     "output_type": "display_data"
    }
   ],
   "source": [
    "test_stationarity(ts_dif)"
   ]
  },
  {
   "cell_type": "code",
   "execution_count": 40,
   "metadata": {},
   "outputs": [
    {
     "data": {
      "text/plain": [
       "<matplotlib.axes._subplots.AxesSubplot at 0x1c28d2a780>"
      ]
     },
     "execution_count": 40,
     "metadata": {},
     "output_type": "execute_result"
    },
    {
     "data": {
      "image/png": "[encoded data removed]",
      "text/plain": [
       "<Figure size 1008x288 with 1 Axes>"
      ]
     },
     "metadata": {
      "needs_background": "light"
     },
     "output_type": "display_data"
    }
   ],
   "source": [
    "# Differencing\n",
    "ts_log_dif = ts_log - ts_log.shift()\n",
    "plt.figure(figsize=(14,4))\n",
    "ts_log_dif.plot()"
   ]
  },
  {
   "cell_type": "code",
   "execution_count": 41,
   "metadata": {},
   "outputs": [
    {
     "name": "stdout",
     "output_type": "stream",
     "text": [
      "Perfom Dickey fuller test\n",
      "Test Statistic                -5.677749e+00\n",
      "p-value                        8.626298e-07\n",
      "#Lags Used                     0.000000e+00\n",
      "Number of Observations Used    9.400000e+01\n",
      "Critical Value (1%)           -3.501912e+00\n",
      "Critical Value (5%)           -2.892815e+00\n",
      "Critical Value (10%)          -2.583454e+00\n",
      "dtype: float64\n"
     ]
    },
    {
     "data": {
      "image/png": "[encoded data removed]",
      "text/plain": [
       "<Figure size 1008x288 with 1 Axes>"
      ]
     },
     "metadata": {
      "needs_background": "light"
     },
     "output_type": "display_data"
    }
   ],
   "source": [
    "ts_log_dif.dropna(inplace = True)\n",
    "test_stationarity(ts_log_dif)"
   ]
  },
  {
   "cell_type": "code",
   "execution_count": 42,
   "metadata": {},
   "outputs": [
    {
     "data": {
      "text/plain": [
       "<matplotlib.legend.Legend at 0x1c29194e48>"
      ]
     },
     "execution_count": 42,
     "metadata": {},
     "output_type": "execute_result"
    },
    {
     "data": {
      "image/png": "[encoded data removed]",
      "text/plain": [
       "<Figure size 1008x576 with 3 Axes>"
      ]
     },
     "metadata": {
      "needs_background": "light"
     },
     "output_type": "display_data"
    }
   ],
   "source": [
    "# Decomposing\n",
    "docom = seasonal_decompose(ts_dif)\n",
    "fig,ax = plt.subplots(3,1,figsize=(14,8))\n",
    "ax\n",
    "ax[0].plot(docom.resid,label = 'Residual', color = 'r')\n",
    "ax[0].legend(loc= 'best')\n",
    "ax[1].plot(docom.seasonal, label = 'Seasonal', color = 'b')\n",
    "ax[1].legend(loc = 'best')\n",
    "ax[2].plot(docom.trend,  label = 'Trend', color = 'b')\n",
    "ax[2].legend(loc = 'best')"
   ]
  },
  {
   "cell_type": "code",
   "execution_count": 43,
   "metadata": {},
   "outputs": [],
   "source": [
    "# ACF\n",
    "lag_acf = acf(ts_dif,nlags=20)\n",
    "#PACF\n",
    "lag_pacf = pacf(ts_dif, nlags=20, method='ols')"
   ]
  },
  {
   "cell_type": "code",
   "execution_count": 44,
   "metadata": {},
   "outputs": [
    {
     "data": {
      "text/plain": [
       "<matplotlib.lines.Line2D at 0x1c29454630>"
      ]
     },
     "execution_count": 44,
     "metadata": {},
     "output_type": "execute_result"
    },
    {
     "data": {
      "image/png": "[encoded data removed]",
      "text/plain": [
       "<Figure size 1008x288 with 2 Axes>"
      ]
     },
     "metadata": {
      "needs_background": "light"
     },
     "output_type": "display_data"
    }
   ],
   "source": [
    "fig,ax = plt.subplots(1,2, figsize=(14,4))\n",
    "ax1, ax2 = ax.flatten()\n",
    "ax1.plot(lag_acf)\n",
    "ax1.axhline(y=0,linestyle='--',color= 'gray')\n",
    "ax1.axhline(y= - 1.96/np.sqrt(len(ts_dif)), linestyle='--',color= 'gray')\n",
    "ax1.axhline(y=  1.96/np.sqrt(len(ts_dif)), linestyle='--',color= 'gray')\n",
    "\n",
    "ax2.plot(lag_pacf,)\n",
    "ax2.axhline(y=0,linestyle = '--', color = 'gray')\n",
    "ax2.axhline(y = -1.96/np.sqrt(len(ts_dif)), linestyle = '--', color = 'gray')\n",
    "ax2.axhline(y = 1.96/np.sqrt(len(ts_dif)), linestyle = '--', color = 'gray')"
   ]
  },
  {
   "cell_type": "code",
   "execution_count": null,
   "metadata": {},
   "outputs": [],
   "source": [
    "# the above graphs show that these should be the p and q values: p=7.5 q=1.5"
   ]
  },
  {
   "cell_type": "code",
   "execution_count": 45,
   "metadata": {},
   "outputs": [
    {
     "name": "stdout",
     "output_type": "stream",
     "text": [
      "                             ARIMA Model Results                              \n",
      "==============================================================================\n",
      "Dep. Variable:          D.Sale_Prices   No. Observations:                   84\n",
      "Model:                 ARIMA(5, 1, 1)   Log Likelihood                 161.483\n",
      "Method:                       css-mle   S.D. of innovations              0.035\n",
      "Date:                Sat, 16 Nov 2019   AIC                           -306.966\n",
      "Time:                        19:20:03   BIC                           -287.519\n",
      "Sample:                    01-31-2011   HQIC                          -299.149\n",
      "                         - 12-31-2017                                         \n",
      "=======================================================================================\n",
      "                          coef    std err          z      P>|z|      [0.025      0.975]\n",
      "---------------------------------------------------------------------------------------\n",
      "const                   0.0041      0.006      0.639      0.525      -0.008       0.017\n",
      "ar.L1.D.Sale_Prices    -0.7077      0.242     -2.920      0.005      -1.183      -0.233\n",
      "ar.L2.D.Sale_Prices     0.1537      0.177      0.868      0.388      -0.193       0.501\n",
      "ar.L3.D.Sale_Prices     0.1617      0.178      0.909      0.366      -0.187       0.510\n",
      "ar.L4.D.Sale_Prices     0.2490      0.175      1.424      0.158      -0.094       0.592\n",
      "ar.L5.D.Sale_Prices     0.0288      0.179      0.162      0.872      -0.321       0.379\n",
      "ma.L1.D.Sale_Prices     0.8329      0.186      4.474      0.000       0.468       1.198\n",
      "                                    Roots                                    \n",
      "=============================================================================\n",
      "                  Real          Imaginary           Modulus         Frequency\n",
      "-----------------------------------------------------------------------------\n",
      "AR.1           -1.0560           -0.0000j            1.0560           -0.5000\n",
      "AR.2            1.4327           -0.0000j            1.4327           -0.0000\n",
      "AR.3           -0.4759           -1.6180j            1.6866           -0.2955\n",
      "AR.4           -0.4759           +1.6180j            1.6866            0.2955\n",
      "AR.5           -8.0566           -0.0000j            8.0566           -0.5000\n",
      "MA.1           -1.2006           +0.0000j            1.2006            0.5000\n",
      "-----------------------------------------------------------------------------\n"
     ]
    },
    {
     "data": {
      "text/plain": [
       "[<matplotlib.lines.Line2D at 0x1c29a32d30>]"
      ]
     },
     "execution_count": 45,
     "metadata": {},
     "output_type": "execute_result"
    },
    {
     "data": {
      "image/png": "[encoded data removed]",
      "text/plain": [
       "<Figure size 1008x288 with 1 Axes>"
      ]
     },
     "metadata": {
      "needs_background": "light"
     },
     "output_type": "display_data"
    }
   ],
   "source": [
    "model = ARIMA(ts_dif, order = (5,1,1))\n",
    "model_fit = model.fit(disp=5)\n",
    "print(model_fit.summary())\n",
    "plt.figure(figsize=(14,4))\n",
    "plt.plot(ts_dif)\n",
    "plt.plot(model_fit.fittedvalues,color = 'r')"
   ]
  },
  {
   "cell_type": "code",
   "execution_count": 46,
   "metadata": {},
   "outputs": [],
   "source": [
    "# Grid search method\n",
    "#Evaluate arima model for (p,d,q)\n",
    "def evaluate_arima_model(X, arima_order):\n",
    "    # prepare training dataset\n",
    "    train_size = int(len(X) * 0.66)\n",
    "    train, test = X[0:train_size], X[train_size:]\n",
    "    history = [x for x in train]\n",
    "    # make predictions\n",
    "    predictions = list()\n",
    "    for t in range(len(test)):\n",
    "        model = ARIMA(history, order=arima_order)\n",
    "        model_fit = model.fit(disp=0)\n",
    "        yhat = model_fit.forecast()[0]\n",
    "        predictions.append(yhat)\n",
    "        history.append(test[t])\n",
    "    # calculate out of sample error\n",
    "    error = mean_squared_error(test, predictions)\n",
    "    return error"
   ]
  },
  {
   "cell_type": "code",
   "execution_count": 47,
   "metadata": {},
   "outputs": [],
   "source": [
    "def evaluate_models(dataset, p_values, d_values, q_values):\n",
    "    dataset = dataset.astype('float32')\n",
    "    best_score, best_cfg = float(\"inf\"), None\n",
    "    for p in p_values:\n",
    "        for d in d_values:\n",
    "            for q in q_values:\n",
    "                order = (p,d,q)\n",
    "                try:\n",
    "                    mse = evaluate_arima_model(dataset, order)\n",
    "                    if mse < best_score:\n",
    "                        best_score, best_cfg = mse, order\n",
    "                    print('ARIMA%s MSE=%.3f' % (order,mse))\n",
    "                except:\n",
    "                    continue\n",
    "    print('Best ARIMA%s MSE=%.3f' % (best_cfg, best_score))"
   ]
  },
  {
   "cell_type": "code",
   "execution_count": 48,
   "metadata": {},
   "outputs": [
    {
     "name": "stdout",
     "output_type": "stream",
     "text": [
      "ARIMA(0, 0, 0) MSE=998912613.382\n",
      "ARIMA(0, 0, 1) MSE=299223112.316\n",
      "ARIMA(0, 1, 0) MSE=46898886.039\n",
      "ARIMA(0, 1, 1) MSE=47460390.075\n"
     ]
    },
    {
     "name": "stderr",
     "output_type": "stream",
     "text": [
      "/Users/serenaleung/anaconda3/envs/PythonData/lib/python3.6/site-packages/statsmodels/tsa/kalmanf/kalmanfilter.py:649: RuntimeWarning:\n",
      "\n",
      "divide by zero encountered in true_divide\n",
      "\n",
      "/Users/serenaleung/anaconda3/envs/PythonData/lib/python3.6/site-packages/statsmodels/tsa/tsatools.py:607: RuntimeWarning:\n",
      "\n",
      "invalid value encountered in true_divide\n",
      "\n",
      "/Users/serenaleung/anaconda3/envs/PythonData/lib/python3.6/site-packages/statsmodels/tsa/tsatools.py:609: RuntimeWarning:\n",
      "\n",
      "invalid value encountered in true_divide\n",
      "\n",
      "/Users/serenaleung/anaconda3/envs/PythonData/lib/python3.6/site-packages/statsmodels/base/model.py:488: HessianInversionWarning:\n",
      "\n",
      "Inverting hessian failed, no bse or cov_params available\n",
      "\n",
      "/Users/serenaleung/anaconda3/envs/PythonData/lib/python3.6/site-packages/statsmodels/base/model.py:488: HessianInversionWarning:\n",
      "\n",
      "Inverting hessian failed, no bse or cov_params available\n",
      "\n"
     ]
    },
    {
     "name": "stdout",
     "output_type": "stream",
     "text": [
      "ARIMA(1, 0, 0) MSE=46300414.792\n"
     ]
    },
    {
     "name": "stderr",
     "output_type": "stream",
     "text": [
      "/Users/serenaleung/anaconda3/envs/PythonData/lib/python3.6/site-packages/statsmodels/tsa/kalmanf/kalmanfilter.py:649: RuntimeWarning:\n",
      "\n",
      "divide by zero encountered in true_divide\n",
      "\n",
      "/Users/serenaleung/anaconda3/envs/PythonData/lib/python3.6/site-packages/statsmodels/tsa/tsatools.py:607: RuntimeWarning:\n",
      "\n",
      "invalid value encountered in true_divide\n",
      "\n",
      "/Users/serenaleung/anaconda3/envs/PythonData/lib/python3.6/site-packages/statsmodels/tsa/tsatools.py:609: RuntimeWarning:\n",
      "\n",
      "invalid value encountered in true_divide\n",
      "\n"
     ]
    },
    {
     "name": "stdout",
     "output_type": "stream",
     "text": [
      "ARIMA(1, 1, 0) MSE=47786844.447\n",
      "Best ARIMA(1, 0, 0) MSE=46300414.792\n"
     ]
    }
   ],
   "source": [
    "# Evaluate parameter\n",
    "p_value = range(0,2)\n",
    "d_value = range(0,2)\n",
    "q_value = range(0,2)\n",
    "evaluate_models(ts,p_value,d_value,q_value,) "
   ]
  },
  {
   "cell_type": "code",
   "execution_count": null,
   "metadata": {},
   "outputs": [],
   "source": []
  }
 ],
 "metadata": {
  "kernelspec": {
   "display_name": "Python (PythonData)",
   "language": "python",
   "name": "pythondata"
  },
  "language_info": {
   "codemirror_mode": {
    "name": "ipython",
    "version": 3
   },
   "file_extension": ".py",
   "mimetype": "text/x-python",
   "name": "python",
   "nbconvert_exporter": "python",
   "pygments_lexer": "ipython3",
   "version": "3.6.8"
  }
 },
 "nbformat": 4,
 "nbformat_minor": 2
}
